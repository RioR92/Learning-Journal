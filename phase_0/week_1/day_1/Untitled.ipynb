{
 "cells": [
  {
   "cell_type": "code",
   "execution_count": 1,
   "id": "22dc6a8a",
   "metadata": {},
   "outputs": [
    {
     "name": "stdout",
     "output_type": "stream",
     "text": [
      "halo hacktive8\n"
     ]
    }
   ],
   "source": [
    "print('halo hacktive8')"
   ]
  },
  {
   "cell_type": "markdown",
   "id": "869a88ad",
   "metadata": {},
   "source": [
    "ini adalah notebook pertama saya di hacktive8"
   ]
  },
  {
   "cell_type": "code",
   "execution_count": 2,
   "id": "a7c43609",
   "metadata": {},
   "outputs": [],
   "source": [
    "#Heading"
   ]
  },
  {
   "cell_type": "markdown",
   "id": "765a7f83",
   "metadata": {},
   "source": [
    "#Heading"
   ]
  },
  {
   "cell_type": "markdown",
   "id": "1aa5975f",
   "metadata": {},
   "source": [
    "##Heading"
   ]
  },
  {
   "cell_type": "markdown",
   "id": "0ae180a8",
   "metadata": {},
   "source": [
    "1+6"
   ]
  },
  {
   "cell_type": "markdown",
   "id": "a91ff496",
   "metadata": {},
   "source": [
    "# Heading"
   ]
  },
  {
   "cell_type": "markdown",
   "id": "99d3c8bb",
   "metadata": {},
   "source": [
    "## Heading"
   ]
  },
  {
   "cell_type": "code",
   "execution_count": 3,
   "id": "7d4df470",
   "metadata": {},
   "outputs": [
    {
     "data": {
      "text/plain": [
       "2"
      ]
     },
     "execution_count": 3,
     "metadata": {},
     "output_type": "execute_result"
    }
   ],
   "source": [
    "1+1"
   ]
  },
  {
   "cell_type": "code",
   "execution_count": 4,
   "id": "c60f3d78",
   "metadata": {},
   "outputs": [
    {
     "data": {
      "text/plain": [
       "5"
      ]
     },
     "execution_count": 4,
     "metadata": {},
     "output_type": "execute_result"
    }
   ],
   "source": [
    "1*5"
   ]
  },
  {
   "cell_type": "code",
   "execution_count": 5,
   "id": "d02325f5",
   "metadata": {},
   "outputs": [
    {
     "data": {
      "text/plain": [
       "610040"
      ]
     },
     "execution_count": 5,
     "metadata": {},
     "output_type": "execute_result"
    }
   ],
   "source": [
    "808*755"
   ]
  },
  {
   "cell_type": "code",
   "execution_count": null,
   "id": "3192a0a5",
   "metadata": {},
   "outputs": [],
   "source": []
  }
 ],
 "metadata": {
  "kernelspec": {
   "display_name": "Python 3 (ipykernel)",
   "language": "python",
   "name": "python3"
  },
  "language_info": {
   "codemirror_mode": {
    "name": "ipython",
    "version": 3
   },
   "file_extension": ".py",
   "mimetype": "text/x-python",
   "name": "python",
   "nbconvert_exporter": "python",
   "pygments_lexer": "ipython3",
   "version": "3.9.12"
  }
 },
 "nbformat": 4,
 "nbformat_minor": 5
}
