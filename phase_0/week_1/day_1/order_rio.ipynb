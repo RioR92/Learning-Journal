{
 "cells": [
  {
   "cell_type": "code",
   "execution_count": 4,
   "metadata": {},
   "outputs": [
    {
     "name": "stdout",
     "output_type": "stream",
     "text": [
      "your order : ['steak', 'juice', 'banana']\n"
     ]
    }
   ],
   "source": [
    "order_food = []\n",
    "order = input(\"input first order : \")\n",
    "order_food.append(order)\n",
    "order = input(\"input second order : \")\n",
    "order_food.append(order)\n",
    "order = input(\"input third order : \")\n",
    "order_food.append(order)\n",
    "print(f\"your order : {order_food}\")"
   ]
  },
  {
   "cell_type": "code",
   "execution_count": null,
   "metadata": {},
   "outputs": [],
   "source": []
  }
 ],
 "metadata": {
  "kernelspec": {
   "display_name": "Python 3.9.12 ('base')",
   "language": "python",
   "name": "python3"
  },
  "language_info": {
   "codemirror_mode": {
    "name": "ipython",
    "version": 3
   },
   "file_extension": ".py",
   "mimetype": "text/x-python",
   "name": "python",
   "nbconvert_exporter": "python",
   "pygments_lexer": "ipython3",
   "version": "3.9.12"
  },
  "orig_nbformat": 4,
  "vscode": {
   "interpreter": {
    "hash": "14a69c10c99529959aef60fe8a2430bd56eb2dffcd160e2c44dd7c392e4e5b20"
   }
  }
 },
 "nbformat": 4,
 "nbformat_minor": 2
}
