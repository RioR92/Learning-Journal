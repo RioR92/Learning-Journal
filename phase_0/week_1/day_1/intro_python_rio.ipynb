{
 "cells": [
  {
   "cell_type": "markdown",
   "metadata": {},
   "source": [
    "## Pengenalan Python"
   ]
  },
  {
   "cell_type": "markdown",
   "metadata": {},
   "source": [
    "###Type Data"
   ]
  },
  {
   "cell_type": "markdown",
   "metadata": {},
   "source": [
    "#### Interger"
   ]
  },
  {
   "cell_type": "code",
   "execution_count": 2,
   "metadata": {},
   "outputs": [
    {
     "name": "stdout",
     "output_type": "stream",
     "text": [
      "5\n",
      "<class 'int'>\n"
     ]
    }
   ],
   "source": [
    "# numerik : interger , float, complex\n",
    "# merupakan contoh data tunggal\n",
    "\n",
    "# interger adalah bilangan bulat seperti 5, 10, 600, 2475, etc\n",
    "\n",
    "print (5)\n",
    "print(type (5))"
   ]
  },
  {
   "cell_type": "code",
   "execution_count": 3,
   "metadata": {},
   "outputs": [
    {
     "name": "stdout",
     "output_type": "stream",
     "text": [
      "37\n"
     ]
    },
    {
     "data": {
      "text/plain": [
       "int"
      ]
     },
     "execution_count": 3,
     "metadata": {},
     "output_type": "execute_result"
    }
   ],
   "source": [
    "# data bisa di simpan ke suatu varible\n",
    "# ex :\n",
    "\n",
    "number = 37\n",
    "\n",
    "print(number)\n",
    "type(number)\n",
    "# number merupakan varible yang isinya interger 37\n"
   ]
  },
  {
   "cell_type": "code",
   "execution_count": 4,
   "metadata": {},
   "outputs": [
    {
     "name": "stdout",
     "output_type": "stream",
     "text": [
      "500\n",
      "<class 'int'>\n"
     ]
    }
   ],
   "source": [
    "# varible dapat di ganti dan dapat di update/di overwrite.\n",
    "# ex :\n",
    "\n",
    "number = 500\n",
    "\n",
    "print(number)\n",
    "print(type (number))\n",
    "# int 7 tidak lagi ada di dalam variable number,\n",
    "# karena variable number sudah berubah menjadi 500"
   ]
  },
  {
   "cell_type": "markdown",
   "metadata": {},
   "source": [
    "#### Float"
   ]
  },
  {
   "cell_type": "code",
   "execution_count": 5,
   "metadata": {},
   "outputs": [],
   "source": [
    "# merupakan bilangan yang mempunyai comma ,\n",
    "# ex : 5.0 , 5.7 , etc"
   ]
  },
  {
   "cell_type": "code",
   "execution_count": 6,
   "metadata": {},
   "outputs": [
    {
     "name": "stdout",
     "output_type": "stream",
     "text": [
      "7.0\n",
      "<class 'float'>\n"
     ]
    }
   ],
   "source": [
    "number_2 = 7.0\n",
    "print (number_2)\n",
    "print(type (number_2))\n",
    "\n",
    "# terlihat hasil tetap tertulis angka 7 namun type data menjadi float"
   ]
  },
  {
   "cell_type": "code",
   "execution_count": 7,
   "metadata": {},
   "outputs": [
    {
     "name": "stdout",
     "output_type": "stream",
     "text": [
      "4.0\n",
      "0.2\n",
      "40000.0\n",
      "4000.0\n",
      "42000.0\n",
      "0.00042\n"
     ]
    }
   ],
   "source": [
    "print(4.)\n",
    "print(.2)\n",
    "print(4e4)\n",
    "print(.4e4)\n",
    "print(4.2e4)\n",
    "print(4.2e-4)\n",
    "# 4. = 4.0 atau 4\n",
    "# .2 = 0.2\n",
    "# 4.e4 = 40000 -> x 1000\n",
    "# .4e4 = 4000 -> x1000\n",
    "# 4.2e-4 = 42000 -> : 1000"
   ]
  },
  {
   "cell_type": "markdown",
   "metadata": {},
   "source": [
    "### Type data int dan float yang paling sering digunakan"
   ]
  },
  {
   "cell_type": "markdown",
   "metadata": {},
   "source": [
    "##### Complex"
   ]
  },
  {
   "cell_type": "code",
   "execution_count": 8,
   "metadata": {},
   "outputs": [
    {
     "name": "stdout",
     "output_type": "stream",
     "text": [
      "(2+5j)\n",
      "<class 'complex'>\n"
     ]
    }
   ],
   "source": [
    "# bilangan yang mempunyai struktur bill. riil dan bill. imajiner\n",
    "# contoh :\n",
    "# 2 + 5j, dll\n",
    "# 2 = bill. riil, 5j = bill imajiner\n",
    "# pada python bill imajiner menggunakan konsonan j\n",
    "\n",
    "number_complex = 2+5j\n",
    "print(number_complex)\n",
    "print(type(number_complex))\n",
    "\n"
   ]
  },
  {
   "cell_type": "markdown",
   "metadata": {},
   "source": [
    "### Fungsi Print\n",
    "- penggunaan print diperlukan dalam coding, karena membuktikan adanya proses coding.\n",
    "- print dapat dilakukan secara bersamaan dan akan di proses bertahap oleh system.\n",
    "- JIKA tidak ada fungsi print, maka system akan hanya membaca equation terakhir dan tidak di bukukan sebagai coding\n",
    "- JIKA tidak memakai print, maka pada script (.py) tidak akan terbaca.\n",
    "\n",
    "contoh :"
   ]
  },
  {
   "cell_type": "code",
   "execution_count": 9,
   "metadata": {},
   "outputs": [
    {
     "data": {
      "text/plain": [
       "6"
      ]
     },
     "execution_count": 9,
     "metadata": {},
     "output_type": "execute_result"
    }
   ],
   "source": [
    "# TANPA PRINT\n",
    "\n",
    "5 + 5\n",
    "3 + 3\n",
    "\n",
    "# yang muncul hanya 3+3 karena merupakan eq terakhir"
   ]
  },
  {
   "cell_type": "code",
   "execution_count": 10,
   "metadata": {},
   "outputs": [
    {
     "name": "stdout",
     "output_type": "stream",
     "text": [
      "10\n",
      "6\n"
     ]
    }
   ],
   "source": [
    "# MEMAKAI PRINT\n",
    "print (5+5)\n",
    "print (3+3)\n",
    "\n",
    "# kedua equation tersebut akan keluar semua,\n",
    "# karena system akan membaca 1 1 dan memproses seluruh equation."
   ]
  },
  {
   "cell_type": "markdown",
   "metadata": {},
   "source": [
    "### Strings\n",
    "\n",
    "- string merupakan sequence dari sebuah character\n",
    "- contoh : \"rio\" -> sequence dari r,i, dan o\n",
    "- cirinya memakai tanda kutip \"\" atau ''\n",
    "-"
   ]
  },
  {
   "cell_type": "code",
   "execution_count": 11,
   "metadata": {},
   "outputs": [
    {
     "name": "stdout",
     "output_type": "stream",
     "text": [
      "Rio Respati\n",
      "Rio Respati\n"
     ]
    },
    {
     "data": {
      "text/plain": [
       "str"
      ]
     },
     "execution_count": 11,
     "metadata": {},
     "output_type": "execute_result"
    }
   ],
   "source": [
    "# String = sequence of character\n",
    "\n",
    "name = \"Rio Respati\"\n",
    "print(name)\n",
    "type(name)\n",
    "# atau\n",
    "nama = 'Rio Respati'\n",
    "print(nama)\n",
    "type(nama)"
   ]
  },
  {
   "cell_type": "code",
   "execution_count": 12,
   "metadata": {},
   "outputs": [
    {
     "data": {
      "text/plain": [
       "'Rio Respati'"
      ]
     },
     "execution_count": 12,
     "metadata": {},
     "output_type": "execute_result"
    }
   ],
   "source": [
    "## jika tidak menggunakan tanda kutip maka sequence tersebut tidak menjadi string, namun menjadi variable.\n",
    "## variable harus di definisikan terlebih dahulu, jika tidak maka system tidak akan recognize (syntax error)\n",
    "# contoh ada di bawah :\n",
    "\n",
    "\"Rio Respati\""
   ]
  },
  {
   "cell_type": "code",
   "execution_count": 13,
   "metadata": {},
   "outputs": [
    {
     "ename": "SyntaxError",
     "evalue": "invalid syntax (3593479316.py, line 1)",
     "output_type": "error",
     "traceback": [
      "\u001b[1;36m  Input \u001b[1;32mIn [13]\u001b[1;36m\u001b[0m\n\u001b[1;33m    Rio Respati\u001b[0m\n\u001b[1;37m        ^\u001b[0m\n\u001b[1;31mSyntaxError\u001b[0m\u001b[1;31m:\u001b[0m invalid syntax\n"
     ]
    }
   ],
   "source": [
    "Rio Respati"
   ]
  },
  {
   "cell_type": "code",
   "execution_count": null,
   "metadata": {},
   "outputs": [
    {
     "name": "stdout",
     "output_type": "stream",
     "text": [
      "jum'at\n",
      "<class 'str'>\n"
     ]
    }
   ],
   "source": [
    "# contoh lain\n",
    "# penulisan hari Jum'at\n",
    "\n",
    "\"jum'at\"\n",
    "print(\"jum'at\")\n",
    "print(type(\"jum'at\"))"
   ]
  },
  {
   "cell_type": "code",
   "execution_count": null,
   "metadata": {},
   "outputs": [
    {
     "name": "stdout",
     "output_type": "stream",
     "text": [
      "jum'at\n",
      "<class 'str'>\n"
     ]
    }
   ],
   "source": [
    "# JIKA penulisan hari jumat ini menggunakan kutip 1,\n",
    "# maka menggunakan escape character dengan backslash \\\n",
    "# contoh :\n",
    "\n",
    "hari = 'jum\\'at'\n",
    "print(hari)\n",
    "print(type(hari))"
   ]
  },
  {
   "cell_type": "code",
   "execution_count": null,
   "metadata": {},
   "outputs": [
    {
     "name": "stdout",
     "output_type": "stream",
     "text": [
      "i walk a lonely road\n",
      "the only thing that\n",
      "i've ever known\n",
      "don't know where it goes\n",
      "but it's home to me\n",
      "and i walk alone \n"
     ]
    }
   ],
   "source": [
    "# MULTILINE String\n",
    "# String hanya bisa di tulis di 1 line.\n",
    "# JIKA mau menulis di lebih dari 1 line harus menggunakan\n",
    "# triple quote yg disebut dengan multiline string\n",
    "# contoh\n",
    "\n",
    "\n",
    "lyric = (\"\"\"i walk a lonely road\n",
    "the only thing that\n",
    "i've ever known\n",
    "don't know where it goes\n",
    "but it's home to me\n",
    "and i walk alone \"\"\")\n",
    "\n",
    "print(lyric)"
   ]
  },
  {
   "cell_type": "markdown",
   "metadata": {},
   "source": [
    "#### SELECTING Data String"
   ]
  },
  {
   "cell_type": "code",
   "execution_count": null,
   "metadata": {},
   "outputs": [],
   "source": [
    "#system phyton memberikan start sequence dari angka 0\n",
    "#sehingga pada data string rio respati huruf r pertama di hitung sebagai character ke - 0, dst"
   ]
  },
  {
   "cell_type": "code",
   "execution_count": null,
   "metadata": {},
   "outputs": [
    {
     "name": "stdout",
     "output_type": "stream",
     "text": [
      "Rio Respati\n"
     ]
    }
   ],
   "source": [
    "print(name)"
   ]
  },
  {
   "cell_type": "code",
   "execution_count": 18,
   "metadata": {},
   "outputs": [
    {
     "name": "stdout",
     "output_type": "stream",
     "text": [
      "Rio Respati\n",
      "R\n",
      "i\n",
      "t\n"
     ]
    }
   ],
   "source": [
    "# Selecting spesific character di data string\n",
    "\n",
    "print (name)\n",
    "print(name[0])\n",
    "print(name[1])\n",
    "print(name[-2])\n",
    "#character ke 0 adalah r, character ke 1 adalah i\n",
    "#character ke -2 adalah t yang di ambil 2 dari belakang"
   ]
  },
  {
   "cell_type": "markdown",
   "metadata": {},
   "source": [
    "#### SLICING DATA STRING"
   ]
  },
  {
   "cell_type": "code",
   "execution_count": 19,
   "metadata": {},
   "outputs": [],
   "source": [
    "# Slicing Data String\n",
    "# Digunakan untuk mengambil bagian dari data string\n",
    "# formatnya adalah [i1,i2,i3] dimana :\n",
    "# i1 = indeks awal inclusive\n",
    "# i2 = indeks akhir exclusive\n",
    "# i3 = step\n",
    "\n",
    "# CONTOH\n",
    "\n"
   ]
  },
  {
   "cell_type": "code",
   "execution_count": 20,
   "metadata": {},
   "outputs": [
    {
     "name": "stdout",
     "output_type": "stream",
     "text": [
      "Rio Respati\n"
     ]
    }
   ],
   "source": [
    "print(name)"
   ]
  },
  {
   "cell_type": "code",
   "execution_count": 30,
   "metadata": {},
   "outputs": [
    {
     "name": "stdout",
     "output_type": "stream",
     "text": [
      "Rio\n"
     ]
    }
   ],
   "source": [
    "print(name[0:3:1])\n",
    "# i1 = start awal slicing dengan huruf R\n",
    "# i2 = start akhir slicing dengan tanda spasi,\n",
    "# namun dikarenakan i2 sifatnya exclusive maka yang di ambil character ke 3\n",
    "# i3 = stepnya berarti system mengambil 1 step."
   ]
  },
  {
   "cell_type": "code",
   "execution_count": 32,
   "metadata": {},
   "outputs": [
    {
     "name": "stdout",
     "output_type": "stream",
     "text": [
      "RoRsa\n"
     ]
    }
   ],
   "source": [
    "print(name[0:9:2])\n",
    "#i1 = huruf awal R\n",
    "#i2 = huruf terakhir adalah t, sehingga yang di ambil huruf sebelumnya yaitu huruf a\n",
    "#i3 = dilongkap 1 huruf karena per 2 step baru ambil character"
   ]
  },
  {
   "cell_type": "code",
   "execution_count": 33,
   "metadata": {},
   "outputs": [
    {
     "name": "stdout",
     "output_type": "stream",
     "text": [
      "Rio\n",
      "Respati\n"
     ]
    }
   ],
   "source": [
    "print(name[0:3:1])\n",
    "print(name[4:11:1])"
   ]
  },
  {
   "cell_type": "markdown",
   "metadata": {},
   "source": [
    "#### STRING FORMATTING"
   ]
  },
  {
   "cell_type": "code",
   "execution_count": 34,
   "metadata": {},
   "outputs": [],
   "source": [
    "#Metode untuk memasukan sesuatu kedalam string"
   ]
  },
  {
   "cell_type": "code",
   "execution_count": 38,
   "metadata": {},
   "outputs": [],
   "source": [
    "name = 'Rio Respati'\n",
    "age = 29 "
   ]
  },
  {
   "cell_type": "code",
   "execution_count": 39,
   "metadata": {},
   "outputs": [
    {
     "name": "stdout",
     "output_type": "stream",
     "text": [
      "my name is : Rio Respati and im 29 years old\n"
     ]
    }
   ],
   "source": [
    "# masukan name dan age ke suatu kalimat\n",
    "# menggunakan f string dan parantheses\n",
    "#contoh\n",
    "\n",
    "print(f'my name is : {name} and im {age} years old')"
   ]
  },
  {
   "cell_type": "code",
   "execution_count": 42,
   "metadata": {},
   "outputs": [
    {
     "name": "stdout",
     "output_type": "stream",
     "text": [
      "my name is :Rio Respati and im 29 years old with Golf as a hobby\n"
     ]
    }
   ],
   "source": [
    "name = \"Rio Respati\"\n",
    "age = 29 \n",
    "job = 'Golf'\n",
    "\n",
    "print(f'my name is :{name} and im {age} years old with {job} as a hobby')"
   ]
  },
  {
   "cell_type": "markdown",
   "metadata": {},
   "source": [
    "### USER INPUT PROGRAM"
   ]
  },
  {
   "cell_type": "code",
   "execution_count": 45,
   "metadata": {},
   "outputs": [],
   "source": [
    "# cara menggunakan input program adalah dengan menuliskan input sebelum function\n",
    "# nanti hasilnya user harus melakukan input data terlebih dahulu sebelum hasilnya dapat di lihat/di print"
   ]
  },
  {
   "cell_type": "code",
   "execution_count": 46,
   "metadata": {},
   "outputs": [
    {
     "name": "stdout",
     "output_type": "stream",
     "text": [
      "my name is : Rio Respati and im 29 years old\n"
     ]
    }
   ],
   "source": [
    "name = input('input your name : ')\n",
    "age = input('input your age: ')\n",
    "print(f'my name is {name} and im {age} years old')"
   ]
  },
  {
   "cell_type": "code",
   "execution_count": 3,
   "metadata": {},
   "outputs": [
    {
     "name": "stdout",
     "output_type": "stream",
     "text": [
      "My name is Rio Respati and im 29, currently im playing for Persebaya as a GK  \n"
     ]
    }
   ],
   "source": [
    "name = input('input your name :')\n",
    "age = input('input your age : ')\n",
    "team = input('input your team : ')\n",
    "position = input('input your position :')\n",
    "print(f'My name is {name} and im {age}, currently im playing for {team} as a {position}  ')"
   ]
  },
  {
   "cell_type": "code",
   "execution_count": 4,
   "metadata": {},
   "outputs": [
    {
     "name": "stdout",
     "output_type": "stream",
     "text": [
      "My name is Rio R and im 29\n",
      "currently im playing for Elite as a GK  \n"
     ]
    }
   ],
   "source": [
    "name = input('input your name :')\n",
    "age = input('input your age : ')\n",
    "team = input('input your team : ')\n",
    "position = input('input your position :')\n",
    "print(f'My name is {name} and im {age}') \n",
    "print(f'currently im playing for {team} as a {position}  ')"
   ]
  },
  {
   "cell_type": "code",
   "execution_count": 5,
   "metadata": {},
   "outputs": [
    {
     "name": "stdout",
     "output_type": "stream",
     "text": [
      "My name is Rio R and im 29\n",
      " currently im playing for Arema as a GK  \n"
     ]
    }
   ],
   "source": [
    "name = input('input your name :')\n",
    "age = input('input your age : ')\n",
    "team = input('input your team : ')\n",
    "position = input('input your position :')\n",
    "print(f'My name is {name} and im {age}\\n currently im playing for {team} as a {position}  ')"
   ]
  },
  {
   "cell_type": "code",
   "execution_count": 7,
   "metadata": {},
   "outputs": [
    {
     "name": "stdout",
     "output_type": "stream",
     "text": [
      "My name is Rio R and im 29, \n",
      "currently im playing for Manchester United \n",
      "as a GK  \n"
     ]
    }
   ],
   "source": [
    "name = input('input your name :')\n",
    "age = input('input your age : ')\n",
    "team = input('input your team : ')\n",
    "position = input('input your position :')\n",
    "print(f'''My name is {name} and im {age}, \n",
    "currently im playing for {team} \n",
    "as a {position}  ''')"
   ]
  },
  {
   "cell_type": "markdown",
   "metadata": {},
   "source": [
    "### BOOLEAN"
   ]
  },
  {
   "cell_type": "code",
   "execution_count": 8,
   "metadata": {},
   "outputs": [],
   "source": [
    "# binary number artinya 0 atau 1, True or False\n",
    "# Penulisan tanpa petik karena bukan string"
   ]
  },
  {
   "cell_type": "code",
   "execution_count": 10,
   "metadata": {},
   "outputs": [
    {
     "data": {
      "text/plain": [
       "True"
      ]
     },
     "execution_count": 10,
     "metadata": {},
     "output_type": "execute_result"
    }
   ],
   "source": [
    "True"
   ]
  },
  {
   "cell_type": "code",
   "execution_count": 11,
   "metadata": {},
   "outputs": [
    {
     "data": {
      "text/plain": [
       "False"
      ]
     },
     "execution_count": 11,
     "metadata": {},
     "output_type": "execute_result"
    }
   ],
   "source": [
    "False"
   ]
  },
  {
   "cell_type": "code",
   "execution_count": 15,
   "metadata": {},
   "outputs": [
    {
     "name": "stdout",
     "output_type": "stream",
     "text": [
      "True\n"
     ]
    },
    {
     "data": {
      "text/plain": [
       "bool"
      ]
     },
     "execution_count": 15,
     "metadata": {},
     "output_type": "execute_result"
    }
   ],
   "source": [
    "# contoh penulisan boolean\n",
    "is_married = True\n",
    "print(is_married)\n",
    "type(is_married)"
   ]
  },
  {
   "cell_type": "code",
   "execution_count": 19,
   "metadata": {},
   "outputs": [
    {
     "name": "stdout",
     "output_type": "stream",
     "text": [
      "True\n",
      "False\n"
     ]
    }
   ],
   "source": [
    "# bisa juga untuk logic equation\n",
    "print (100 < 500)\n",
    "print (100 > 500)"
   ]
  },
  {
   "cell_type": "code",
   "execution_count": 26,
   "metadata": {},
   "outputs": [
    {
     "name": "stdout",
     "output_type": "stream",
     "text": [
      "25\n",
      "<class 'int'>\n"
     ]
    },
    {
     "data": {
      "text/plain": [
       "True"
      ]
     },
     "execution_count": 26,
     "metadata": {},
     "output_type": "execute_result"
    }
   ],
   "source": [
    "p = 25\n",
    "print (p)\n",
    "print(type(p))\n",
    "p == 25"
   ]
  },
  {
   "cell_type": "code",
   "execution_count": 27,
   "metadata": {},
   "outputs": [
    {
     "data": {
      "text/plain": [
       "False"
      ]
     },
     "execution_count": 27,
     "metadata": {},
     "output_type": "execute_result"
    }
   ],
   "source": [
    "p == 30"
   ]
  },
  {
   "cell_type": "markdown",
   "metadata": {},
   "source": [
    "### Variable Assignment lanjutan"
   ]
  },
  {
   "cell_type": "code",
   "execution_count": 29,
   "metadata": {},
   "outputs": [
    {
     "name": "stdout",
     "output_type": "stream",
     "text": [
      "300\n",
      "300\n",
      "300\n"
     ]
    }
   ],
   "source": [
    "a = b = c = 300\n",
    "print(a)\n",
    "print(b)\n",
    "print(c)"
   ]
  },
  {
   "cell_type": "code",
   "execution_count": 32,
   "metadata": {},
   "outputs": [
    {
     "name": "stdout",
     "output_type": "stream",
     "text": [
      "a : 1\n",
      "b : 2\n",
      "c : 3\n"
     ]
    }
   ],
   "source": [
    "a,b,c = 1,2,3\n",
    "print(f'a : {a}')\n",
    "print(f'b : {b}')\n",
    "print(f'c : {c}')"
   ]
  },
  {
   "cell_type": "markdown",
   "metadata": {},
   "source": [
    "### Aritmethic Operations"
   ]
  },
  {
   "cell_type": "code",
   "execution_count": 35,
   "metadata": {},
   "outputs": [
    {
     "name": "stdout",
     "output_type": "stream",
     "text": [
      "hasil penjumlahan :7\n",
      "hasil pengurangan :3\n",
      "hasil perkalian :10\n",
      "hasil pembagian normal :2.5\n",
      "hasil pembagian bulat:2\n",
      "hasil pangkat :25\n",
      "hasil sisa bagi :1\n"
     ]
    }
   ],
   "source": [
    "a = 5\n",
    "b = 2\n",
    "\n",
    "print(f'hasil penjumlahan :{a + b}')\n",
    "print(f'hasil pengurangan :{a - b}')\n",
    "print(f'hasil perkalian :{a * b}')\n",
    "print(f'hasil pembagian normal :{a / b}')\n",
    "print(f'hasil pembagian bulat:{a // b}')\n",
    "print(f'hasil pangkat :{a ** b}')\n",
    "print(f'hasil sisa bagi :{a % b}')\n",
    "\n"
   ]
  },
  {
   "cell_type": "code",
   "execution_count": 36,
   "metadata": {},
   "outputs": [],
   "source": [
    "#pembagian bulat memaksa hasil output berupa bilangan bulat\n",
    "#sisa bagi biasa dipakai untuk even and odd"
   ]
  },
  {
   "cell_type": "markdown",
   "metadata": {},
   "source": [
    "### ARITMETHIC OPS in String data"
   ]
  },
  {
   "cell_type": "code",
   "execution_count": 43,
   "metadata": {},
   "outputs": [
    {
     "name": "stdout",
     "output_type": "stream",
     "text": [
      "concatenation : Rio Respati\n"
     ]
    }
   ],
   "source": [
    "# CONCATENATION\n",
    "\n",
    "first_name = 'Rio'\n",
    "last_name = 'Respati'\n",
    "\n",
    "print(f'concatenation : {first_name + \" \" + last_name}')"
   ]
  },
  {
   "cell_type": "code",
   "execution_count": 41,
   "metadata": {},
   "outputs": [],
   "source": [
    "# Function concatenation hanya untuk menggabungkan sesama data string\n",
    "# tanda kutip di tengah untuk menambahkan spasi antara Rio dan Respati,\n",
    "# namun dikarenakan harus dalam bentuk string maka perlu diberikan tanda kutip"
   ]
  },
  {
   "cell_type": "code",
   "execution_count": 50,
   "metadata": {},
   "outputs": [
    {
     "name": "stdout",
     "output_type": "stream",
     "text": [
      "Repeating : Rio RespatiRio RespatiRio Respati\n"
     ]
    }
   ],
   "source": [
    "#REPEATING\n",
    "\n",
    "first_name = 'Rio'\n",
    "last_name = 'Respati'\n",
    "\n",
    "print(f'Repeating : {(first_name + \" \" + last_name) * 3}')"
   ]
  },
  {
   "cell_type": "markdown",
   "metadata": {},
   "source": [
    "### COMPARISON OPERATOR"
   ]
  },
  {
   "cell_type": "code",
   "execution_count": 55,
   "metadata": {},
   "outputs": [
    {
     "name": "stdout",
     "output_type": "stream",
     "text": [
      "10 == 7 (sama dengan) : False\n",
      "10 != 7 (tidak sama dengan) : True\n",
      "10 > 7 (lebih besar) : False\n",
      "10 >= 7 (lebih besar sama dengan) : False\n",
      "10 < 7 (lebih kecil) : False\n",
      "10 <= 7 (lebih kecil sama dengan) : False\n"
     ]
    }
   ],
   "source": [
    "a = 10\n",
    "b = 7\n",
    "\n",
    "print(f'{a} == {b} (sama dengan) : {a == b}')\n",
    "print(f'{a} != {b} (tidak sama dengan) : {a !=b}')\n",
    "print(f'{a} > {b} (lebih besar) : {a < b}')\n",
    "print(f'{a} >= {b} (lebih besar sama dengan) : {a < b}')\n",
    "print(f'{a} < {b} (lebih kecil) : {a < b}')\n",
    "print(f'{a} <= {b} (lebih kecil sama dengan) : {a < b}')"
   ]
  },
  {
   "cell_type": "markdown",
   "metadata": {},
   "source": [
    "### String Manipulation"
   ]
  },
  {
   "cell_type": "code",
   "execution_count": 56,
   "metadata": {},
   "outputs": [],
   "source": [
    "name = 'Rio Respati'"
   ]
  },
  {
   "cell_type": "code",
   "execution_count": 66,
   "metadata": {},
   "outputs": [
    {
     "name": "stdout",
     "output_type": "stream",
     "text": [
      "RIO RESPATI\n",
      "rio respati\n",
      "Rio respati\n",
      "Rio Respati\n",
      "rIO rESPATI\n"
     ]
    }
   ],
   "source": [
    "print(name.upper())\n",
    "print(name.lower())\n",
    "print(name.capitalize())\n",
    "print(name.title())\n",
    "print(name.swapcase())\n"
   ]
  },
  {
   "cell_type": "code",
   "execution_count": 67,
   "metadata": {},
   "outputs": [],
   "source": [
    "#.upper = Jadi huruf besar semua\n",
    "#.lower = Jadi huruf kecil semua\n",
    "#.capitalise = Huruf pertama jadi huruf besar\n",
    "#.title = huruf besar setelah spasi\n",
    "#.swapcase = kebalikan dari posisi huruf awal (besar - kecil atau kecil-besar)"
   ]
  },
  {
   "cell_type": "markdown",
   "metadata": {},
   "source": [
    "### Bilangan Majemuk / Compound Number"
   ]
  },
  {
   "cell_type": "markdown",
   "metadata": {},
   "source": [
    "##### Consist of tupple and list"
   ]
  },
  {
   "cell_type": "code",
   "execution_count": 68,
   "metadata": {},
   "outputs": [],
   "source": [
    "# list & tuppler\n",
    "# sama - sama bisa menyimpan beberapa data tunggal di dalamnya.\n",
    "# list menggunakan kurung siku\n",
    "# tuple menggunakan kurung biasa"
   ]
  },
  {
   "cell_type": "code",
   "execution_count": 70,
   "metadata": {},
   "outputs": [
    {
     "name": "stdout",
     "output_type": "stream",
     "text": [
      "<class 'tuple'>\n",
      "<class 'list'>\n"
     ]
    }
   ],
   "source": [
    "tuple_1 = (1,2,3,4,5,\"Rio\", True, (7,8,9))\n",
    "list_1 = [1,2,3,4,5,\"Rio\", True, (7,8,9)]\n",
    "\n",
    "print(type(tuple_1))\n",
    "print(type(list_1))"
   ]
  },
  {
   "cell_type": "code",
   "execution_count": 71,
   "metadata": {},
   "outputs": [],
   "source": [
    "# terlihat walaupun isi datanya sama namun bentuk datanya berbeda yang 1 tuple yang 1 list"
   ]
  },
  {
   "cell_type": "code",
   "execution_count": 72,
   "metadata": {},
   "outputs": [
    {
     "data": {
      "text/plain": [
       "8"
      ]
     },
     "execution_count": 72,
     "metadata": {},
     "output_type": "execute_result"
    }
   ],
   "source": [
    "#hitung data yang ada di dalam tuple dan list\n",
    "len(list_1)"
   ]
  },
  {
   "cell_type": "code",
   "execution_count": 73,
   "metadata": {},
   "outputs": [
    {
     "data": {
      "text/plain": [
       "8"
      ]
     },
     "execution_count": 73,
     "metadata": {},
     "output_type": "execute_result"
    }
   ],
   "source": [
    "len(tuple_1)"
   ]
  },
  {
   "cell_type": "code",
   "execution_count": 74,
   "metadata": {},
   "outputs": [],
   "source": [
    "#Select dan Slicing"
   ]
  },
  {
   "cell_type": "code",
   "execution_count": 75,
   "metadata": {},
   "outputs": [
    {
     "data": {
      "text/plain": [
       "[1, 2, 3, 4, 5, 'Rio', True, (7, 8, 9)]"
      ]
     },
     "execution_count": 75,
     "metadata": {},
     "output_type": "execute_result"
    }
   ],
   "source": [
    "list_1"
   ]
  },
  {
   "cell_type": "code",
   "execution_count": 80,
   "metadata": {},
   "outputs": [
    {
     "name": "stdout",
     "output_type": "stream",
     "text": [
      "Rio\n",
      "Rio\n"
     ]
    }
   ],
   "source": [
    "print(list_1[5])\n",
    "print(list_1[-3])\n",
    "#Selecting menggunakan kurung siku, data ke 5 merupakan rio"
   ]
  },
  {
   "cell_type": "code",
   "execution_count": 81,
   "metadata": {},
   "outputs": [
    {
     "name": "stdout",
     "output_type": "stream",
     "text": [
      "Rio\n",
      "Rio\n"
     ]
    }
   ],
   "source": [
    "print(tuple_1[5])\n",
    "print(tuple_1[-3])"
   ]
  },
  {
   "cell_type": "code",
   "execution_count": 83,
   "metadata": {},
   "outputs": [
    {
     "name": "stdout",
     "output_type": "stream",
     "text": [
      "[2, 3, 4, 5]\n",
      "<class 'list'>\n",
      "(2, 3, 4, 5)\n",
      "<class 'tuple'>\n"
     ]
    }
   ],
   "source": [
    "print(list_1[1:5])\n",
    "print(type(list_1[1:5]))\n",
    "print(tuple_1[1:5])\n",
    "print(type(tuple_1[1:5]))"
   ]
  },
  {
   "cell_type": "markdown",
   "metadata": {},
   "source": [
    "#### PERBEDAAN LIST DAN TUPPLE"
   ]
  },
  {
   "cell_type": "code",
   "execution_count": 86,
   "metadata": {},
   "outputs": [],
   "source": [
    "# List dapat di rubah\n",
    "# tuple tidak dapat di rubah\n",
    "\n",
    "# contoh :"
   ]
  },
  {
   "cell_type": "code",
   "execution_count": 90,
   "metadata": {},
   "outputs": [
    {
     "data": {
      "text/plain": [
       "[1, 2, 3, 4, 5, 'Rio Respati', True, (7, 8, 9)]"
      ]
     },
     "execution_count": 90,
     "metadata": {},
     "output_type": "execute_result"
    }
   ],
   "source": [
    "list_1[5] = 'Rio Respati'\n",
    "list_1\n",
    "# character ke 5 yaitu Rio berubah menjadi Rio Respati\n",
    "# List DAPAT DI RUBAH"
   ]
  },
  {
   "cell_type": "code",
   "execution_count": 93,
   "metadata": {},
   "outputs": [
    {
     "ename": "TypeError",
     "evalue": "'tuple' object does not support item assignment",
     "output_type": "error",
     "traceback": [
      "\u001b[1;31m---------------------------------------------------------------------------\u001b[0m",
      "\u001b[1;31mTypeError\u001b[0m                                 Traceback (most recent call last)",
      "\u001b[1;32mc:\\Users\\rio_r\\Downloads\\FTDS 013\\learning_journal\\phase_0\\week_1\\day_1\\intro_python_rio.ipynb Cell 85'\u001b[0m in \u001b[0;36m<cell line: 1>\u001b[1;34m()\u001b[0m\n\u001b[1;32m----> <a href='vscode-notebook-cell:/c%3A/Users/rio_r/Downloads/FTDS%20013/learning_journal/phase_0/week_1/day_1/intro_python_rio.ipynb#ch0000113?line=0'>1</a>\u001b[0m tuple_1[\u001b[39m5\u001b[39m] \u001b[39m=\u001b[39m \u001b[39m\"\u001b[39m\u001b[39mRio Respati\u001b[39m\u001b[39m\"\u001b[39m\n\u001b[0;32m      <a href='vscode-notebook-cell:/c%3A/Users/rio_r/Downloads/FTDS%20013/learning_journal/phase_0/week_1/day_1/intro_python_rio.ipynb#ch0000113?line=1'>2</a>\u001b[0m tuple_1\n",
      "\u001b[1;31mTypeError\u001b[0m: 'tuple' object does not support item assignment"
     ]
    }
   ],
   "source": [
    "tuple_1[5] = \"Rio Respati\"\n",
    "tuple_1\n",
    "# Tertulis pada keterangan di bawah bahwa tuple tidak dapat di RUBAH"
   ]
  },
  {
   "cell_type": "markdown",
   "metadata": {},
   "source": [
    "#### LIST METHOD"
   ]
  },
  {
   "cell_type": "markdown",
   "metadata": {},
   "source": [
    "##### Menambahkan data pada list"
   ]
  },
  {
   "cell_type": "code",
   "execution_count": 96,
   "metadata": {},
   "outputs": [
    {
     "name": "stdout",
     "output_type": "stream",
     "text": [
      "<class 'list'>\n"
     ]
    },
    {
     "data": {
      "text/plain": [
       "[1, 2, 3, 4, 5]"
      ]
     },
     "execution_count": 96,
     "metadata": {},
     "output_type": "execute_result"
    }
   ],
   "source": [
    "r = [1,2,3,4,5]\n",
    "print(type(r))\n",
    "r"
   ]
  },
  {
   "cell_type": "code",
   "execution_count": 98,
   "metadata": {},
   "outputs": [
    {
     "data": {
      "text/plain": [
       "[1, 2, 3, 4, 5, 88, 88]"
      ]
     },
     "execution_count": 98,
     "metadata": {},
     "output_type": "execute_result"
    }
   ],
   "source": [
    "# append\n",
    "r.append(88)\n",
    "r\n",
    "#Secara otomatis angka 88 akan muncul di akhir list"
   ]
  },
  {
   "cell_type": "code",
   "execution_count": 99,
   "metadata": {},
   "outputs": [
    {
     "data": {
      "text/plain": [
       "[1, 2, 3, 77, 4, 5, 88, 88]"
      ]
     },
     "execution_count": 99,
     "metadata": {},
     "output_type": "execute_result"
    }
   ],
   "source": [
    "# insert \n",
    "\n",
    "r.insert(3,77)\n",
    "r\n",
    "\n",
    "#angka 77 akan muncul dan menjadi sequence ke 3 dalam list"
   ]
  },
  {
   "cell_type": "markdown",
   "metadata": {},
   "source": [
    "#### Hapus data dari list"
   ]
  },
  {
   "cell_type": "code",
   "execution_count": 100,
   "metadata": {},
   "outputs": [
    {
     "data": {
      "text/plain": [
       "[1, 2, 3, 77, 4, 5, 88, 88]"
      ]
     },
     "execution_count": 100,
     "metadata": {},
     "output_type": "execute_result"
    }
   ],
   "source": [
    "r"
   ]
  },
  {
   "cell_type": "code",
   "execution_count": 111,
   "metadata": {},
   "outputs": [
    {
     "name": "stdout",
     "output_type": "stream",
     "text": [
      "[1, 2, 3, 77, 5, 88, 88]\n"
     ]
    }
   ],
   "source": [
    "#hapus berdasarkan value di dalam list\n",
    "r.remove(4)\n",
    "print(r)\n",
    "\n",
    "# angka 4 pada list sudah hilang"
   ]
  },
  {
   "cell_type": "code",
   "execution_count": 126,
   "metadata": {},
   "outputs": [
    {
     "data": {
      "text/plain": [
       "[1, 2, 77, 5, 88, 88]"
      ]
     },
     "execution_count": 126,
     "metadata": {},
     "output_type": "execute_result"
    }
   ],
   "source": [
    "#hapus berdasarkan lokasi dalam list\n",
    "del r[2]\n",
    "\n",
    "#seq ke 2 adalah 3, maka angka 3 akan hilang\n",
    "r\n"
   ]
  },
  {
   "cell_type": "markdown",
   "metadata": {},
   "source": [
    "## DICTIONARY"
   ]
  },
  {
   "cell_type": "code",
   "execution_count": 144,
   "metadata": {},
   "outputs": [
    {
     "name": "stdout",
     "output_type": "stream",
     "text": [
      "{'name': 'Rio Respati', 'age': '29 years old', 'job': 'student', 'company': 'Hactiv8'}\n"
     ]
    }
   ],
   "source": [
    "biodata = {'name' : 'Rio Respati',\n",
    "            'age' : '29 years old',\n",
    "            'job' : 'student',\n",
    "            'company' : 'Hactiv8'}\n",
    "print(biodata)"
   ]
  },
  {
   "cell_type": "code",
   "execution_count": 145,
   "metadata": {},
   "outputs": [
    {
     "data": {
      "text/plain": [
       "'Rio Respati'"
      ]
     },
     "execution_count": 145,
     "metadata": {},
     "output_type": "execute_result"
    }
   ],
   "source": [
    "biodata['name']"
   ]
  },
  {
   "cell_type": "code",
   "execution_count": 146,
   "metadata": {},
   "outputs": [
    {
     "data": {
      "text/plain": [
       "'student'"
      ]
     },
     "execution_count": 146,
     "metadata": {},
     "output_type": "execute_result"
    }
   ],
   "source": [
    "biodata['job']"
   ]
  },
  {
   "cell_type": "code",
   "execution_count": 147,
   "metadata": {},
   "outputs": [
    {
     "data": {
      "text/plain": [
       "{'name': 'Rio R',\n",
       " 'age': '29 years old',\n",
       " 'job': 'student',\n",
       " 'company': 'Hactiv8'}"
      ]
     },
     "execution_count": 147,
     "metadata": {},
     "output_type": "execute_result"
    }
   ],
   "source": [
    "biodata['name'] = 'Rio R'\n",
    "biodata"
   ]
  },
  {
   "cell_type": "code",
   "execution_count": 148,
   "metadata": {},
   "outputs": [
    {
     "data": {
      "text/plain": [
       "{'name': 'Rio R',\n",
       " 'age': '29 years old',\n",
       " 'job': 'student',\n",
       " 'company': 'Hactiv8',\n",
       " 'status': 'Married'}"
      ]
     },
     "execution_count": 148,
     "metadata": {},
     "output_type": "execute_result"
    }
   ],
   "source": [
    "biodata['status'] = 'Married'\n",
    "biodata"
   ]
  },
  {
   "cell_type": "code",
   "execution_count": null,
   "metadata": {},
   "outputs": [],
   "source": []
  }
 ],
 "metadata": {
  "kernelspec": {
   "display_name": "Python 3.9.12 ('base')",
   "language": "python",
   "name": "python3"
  },
  "language_info": {
   "codemirror_mode": {
    "name": "ipython",
    "version": 3
   },
   "file_extension": ".py",
   "mimetype": "text/x-python",
   "name": "python",
   "nbconvert_exporter": "python",
   "pygments_lexer": "ipython3",
   "version": "3.9.12"
  },
  "orig_nbformat": 4,
  "vscode": {
   "interpreter": {
    "hash": "14a69c10c99529959aef60fe8a2430bd56eb2dffcd160e2c44dd7c392e4e5b20"
   }
  }
 },
 "nbformat": 4,
 "nbformat_minor": 2
}
