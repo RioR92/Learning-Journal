{
 "cells": [
  {
   "cell_type": "code",
   "execution_count": 2,
   "metadata": {},
   "outputs": [
    {
     "name": "stdout",
     "output_type": "stream",
     "text": [
      "hasil perhitungan :7\n"
     ]
    }
   ],
   "source": [
    "number_1 = input(\"Input first number : \")\n",
    "number_1 = eval(number_1)\n",
    "number_2 = input('Input second number : ')\n",
    "number_2 = eval(number_2)\n",
    "print(f'hasil perhitungan :{number_1 + number_2}')"
   ]
  },
  {
   "cell_type": "markdown",
   "metadata": {},
   "source": [
    "#### Function eval merubah data dari string ke intg"
   ]
  }
 ],
 "metadata": {
  "kernelspec": {
   "display_name": "Python 3.9.12 ('base')",
   "language": "python",
   "name": "python3"
  },
  "language_info": {
   "codemirror_mode": {
    "name": "ipython",
    "version": 3
   },
   "file_extension": ".py",
   "mimetype": "text/x-python",
   "name": "python",
   "nbconvert_exporter": "python",
   "pygments_lexer": "ipython3",
   "version": "3.9.12"
  },
  "orig_nbformat": 4,
  "vscode": {
   "interpreter": {
    "hash": "14a69c10c99529959aef60fe8a2430bd56eb2dffcd160e2c44dd7c392e4e5b20"
   }
  }
 },
 "nbformat": 4,
 "nbformat_minor": 2
}
