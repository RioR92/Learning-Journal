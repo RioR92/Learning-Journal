{
  "nbformat": 4,
  "nbformat_minor": 0,
  "metadata": {
    "colab": {
      "name": "test_day_3_rio.ipynb",
      "provenance": [],
      "collapsed_sections": []
    },
    "kernelspec": {
      "name": "python3",
      "display_name": "Python 3"
    },
    "language_info": {
      "name": "python"
    }
  },
  "cells": [
    {
      "cell_type": "markdown",
      "source": [
        "# FUNCTIONS, MODULE, & PACKAGES"
      ],
      "metadata": {
        "id": "VokVx9bPl8SS"
      }
    },
    {
      "cell_type": "markdown",
      "source": [
        "##Functions :"
      ],
      "metadata": {
        "id": "sfeo8-CxmW3m"
      }
    },
    {
      "cell_type": "code",
      "source": [
        "# Function di gunakan untuk membuat customize syntax seperti print, dll\n",
        "# caranya dengan menuliskan def nama_function (parameter yg diperlukan)\n",
        "# nama function harus unique agar tidak bertabrakan dengan build in function di system \n",
        "# function baru harus di akhiri oleh print atau return\n",
        "# contoh :"
      ],
      "metadata": {
        "id": "OQW8sOwSmBFE"
      },
      "execution_count": 1,
      "outputs": []
    },
    {
      "cell_type": "code",
      "source": [
        "def cetak (nama):\n",
        "  print(f'saya adalah {nama}')\n",
        "\n",
        "#funtion cetak ini akan menghasilkan perintah print dibawahnya\n",
        "#contoh:"
      ],
      "metadata": {
        "id": "E9_4nRG-mtap"
      },
      "execution_count": 2,
      "outputs": []
    },
    {
      "cell_type": "code",
      "source": [
        "cetak ('Rio')"
      ],
      "metadata": {
        "colab": {
          "base_uri": "https://localhost:8080/"
        },
        "id": "3sM16MnYqwk2",
        "outputId": "00866022-df8f-4e11-9b14-a76c3b791dd8"
      },
      "execution_count": 3,
      "outputs": [
        {
          "output_type": "stream",
          "name": "stdout",
          "text": [
            "saya adalah Rio\n"
          ]
        }
      ]
    },
    {
      "cell_type": "code",
      "source": [
        "def status (nama,pekerjaan,umur):\n",
        "  print(f'nama saya adalah {nama} menjabat sebagai {pekerjaan} dengan umur {umur}')"
      ],
      "metadata": {
        "id": "QeiZUHCRqzg9"
      },
      "execution_count": 4,
      "outputs": []
    },
    {
      "cell_type": "code",
      "source": [
        "status ('Rio Respati','Accountant','29 tahun')"
      ],
      "metadata": {
        "colab": {
          "base_uri": "https://localhost:8080/"
        },
        "id": "fX5lEcyuras8",
        "outputId": "e9d9c940-4451-4c0f-aa67-d708638e2eb9"
      },
      "execution_count": 5,
      "outputs": [
        {
          "output_type": "stream",
          "name": "stdout",
          "text": [
            "nama saya adalah Rio Respati menjabat sebagai Accountant dengan umur 29 tahun\n"
          ]
        }
      ]
    },
    {
      "cell_type": "code",
      "source": [
        "def add(x,y):\n",
        "  result = x + y\n",
        "  print(result)"
      ],
      "metadata": {
        "id": "b6Kgbly10AJo"
      },
      "execution_count": 6,
      "outputs": []
    },
    {
      "cell_type": "code",
      "source": [
        "s = add(5,3)\n",
        "type(s)"
      ],
      "metadata": {
        "colab": {
          "base_uri": "https://localhost:8080/"
        },
        "id": "yi9PDalQ0SMA",
        "outputId": "be4abf7e-e88a-43e7-ea99-bf9d84929a8a"
      },
      "execution_count": 7,
      "outputs": [
        {
          "output_type": "stream",
          "name": "stdout",
          "text": [
            "8\n"
          ]
        },
        {
          "output_type": "execute_result",
          "data": {
            "text/plain": [
              "NoneType"
            ]
          },
          "metadata": {},
          "execution_count": 7
        }
      ]
    },
    {
      "cell_type": "code",
      "source": [
        "def minus (x,y):\n",
        "  result = x - y\n",
        "  return(result)"
      ],
      "metadata": {
        "id": "2WPqBZ9w0Wif"
      },
      "execution_count": 8,
      "outputs": []
    },
    {
      "cell_type": "code",
      "source": [
        "e = minus(5,3)\n",
        "type(e)"
      ],
      "metadata": {
        "colab": {
          "base_uri": "https://localhost:8080/"
        },
        "id": "AkUMlwXk0jc8",
        "outputId": "d18df90e-6953-443c-b26b-c68eb346c187"
      },
      "execution_count": 9,
      "outputs": [
        {
          "output_type": "execute_result",
          "data": {
            "text/plain": [
              "int"
            ]
          },
          "metadata": {},
          "execution_count": 9
        }
      ]
    },
    {
      "cell_type": "code",
      "source": [
        "#kalau pakai fungsi PRINT maka hasilnya akan berupa data NON -TYPE\n",
        "#SEDANGKAN kalau pakai fungsi return maka hasilnya akan berupa VALUE ( bisa int, bisa str,dll)\n",
        "# contoh ada di atas"
      ],
      "metadata": {
        "id": "7X38Nwhw0leu"
      },
      "execution_count": 10,
      "outputs": []
    },
    {
      "cell_type": "code",
      "source": [
        "#Contoh lain"
      ],
      "metadata": {
        "id": "U82UgmBm1RRa"
      },
      "execution_count": 11,
      "outputs": []
    },
    {
      "cell_type": "code",
      "source": [
        "numlist = [10,20,30]"
      ],
      "metadata": {
        "id": "2i-RQ0px4tdX"
      },
      "execution_count": 12,
      "outputs": []
    },
    {
      "cell_type": "code",
      "source": [
        "def changelist (number):\n",
        "  numlist = number + [1,2,3]\n",
        "  return numlist "
      ],
      "metadata": {
        "id": "i4T7vkaw41uC"
      },
      "execution_count": 13,
      "outputs": []
    },
    {
      "cell_type": "code",
      "source": [
        "changelist([10,10,10])\n",
        "# function changelist secara otomatis akan menambahkan list [1,2,3] sesuai pada format yg telah di buat"
      ],
      "metadata": {
        "colab": {
          "base_uri": "https://localhost:8080/"
        },
        "id": "1KsXz1xx5n0b",
        "outputId": "b3b78da4-54d7-4ff1-fc1d-1cfb69a46b4e"
      },
      "execution_count": 14,
      "outputs": [
        {
          "output_type": "execute_result",
          "data": {
            "text/plain": [
              "[10, 10, 10, 1, 2, 3]"
            ]
          },
          "metadata": {},
          "execution_count": 14
        }
      ]
    },
    {
      "cell_type": "code",
      "source": [
        "numlist\n",
        "# masih sama sesuai list awal"
      ],
      "metadata": {
        "colab": {
          "base_uri": "https://localhost:8080/"
        },
        "id": "DNiqiH-m6TLM",
        "outputId": "f9686223-39bd-48de-aff2-fd5ae6ffb8de"
      },
      "execution_count": 15,
      "outputs": [
        {
          "output_type": "execute_result",
          "data": {
            "text/plain": [
              "[10, 20, 30]"
            ]
          },
          "metadata": {},
          "execution_count": 15
        }
      ]
    },
    {
      "cell_type": "code",
      "source": [
        "changelist(numlist)\n",
        "#setelah diberikan awalan function changelist maka list pada numlist[10,20,30]\n",
        "#akan di tambah oleh list yg sudah tertera pada function yaitu [1,2,3]"
      ],
      "metadata": {
        "colab": {
          "base_uri": "https://localhost:8080/"
        },
        "id": "dSIJ0YhE6nQC",
        "outputId": "b03af4cc-254b-45cb-fc66-ee514e5a9026"
      },
      "execution_count": 16,
      "outputs": [
        {
          "output_type": "execute_result",
          "data": {
            "text/plain": [
              "[10, 20, 30, 1, 2, 3]"
            ]
          },
          "metadata": {},
          "execution_count": 16
        }
      ]
    },
    {
      "cell_type": "code",
      "source": [
        "#namun list numlist TIDAK AKAN BERUBAH mengikuti function di atas.\n",
        "#Hal ini dikarenakan numlist pada function hanya berubah pada equation itu saja.(Local Concept)\n",
        "#Jika ingin merubah total pada numlist maka diperlukan tambahan code yaitu global tapi hal ini tidak di anjurkan\n",
        "#hal yang di anjurkan adalah seperti di bawah ini\n",
        "#CONTOH:\n"
      ],
      "metadata": {
        "id": "WC3YBUyi6sY4"
      },
      "execution_count": 17,
      "outputs": []
    },
    {
      "cell_type": "code",
      "source": [
        "numlist_1 =[100,200,300]\n",
        "numlist_1"
      ],
      "metadata": {
        "colab": {
          "base_uri": "https://localhost:8080/"
        },
        "id": "x9QIXs9e-7g5",
        "outputId": "f92ce354-7cc1-47dd-89e1-3e7e5e93c2ad"
      },
      "execution_count": 18,
      "outputs": [
        {
          "output_type": "execute_result",
          "data": {
            "text/plain": [
              "[100, 200, 300]"
            ]
          },
          "metadata": {},
          "execution_count": 18
        }
      ]
    },
    {
      "cell_type": "code",
      "source": [
        "def changelist(number):\n",
        "  numlist_1 = number + [1,2,3]\n",
        "  return numlist_1"
      ],
      "metadata": {
        "id": "v4VWefd0--na"
      },
      "execution_count": 19,
      "outputs": []
    },
    {
      "cell_type": "code",
      "source": [
        "numlist_1 = changelist([10,20,30])\n",
        "numlist_1"
      ],
      "metadata": {
        "colab": {
          "base_uri": "https://localhost:8080/"
        },
        "id": "WE_NPi8i_I_L",
        "outputId": "540434c9-47fb-4c7e-ca27-c05b242a3b22"
      },
      "execution_count": 20,
      "outputs": [
        {
          "output_type": "execute_result",
          "data": {
            "text/plain": [
              "[10, 20, 30, 1, 2, 3]"
            ]
          },
          "metadata": {},
          "execution_count": 20
        }
      ]
    },
    {
      "cell_type": "markdown",
      "source": [
        "# MASIH BELUM FAHAM TENTANG PENAMBAHAN LIST"
      ],
      "metadata": {
        "id": "v75IeFrqBKiB"
      }
    },
    {
      "cell_type": "code",
      "source": [
        "def calculation (a,b):\n",
        "  add = a+b\n",
        "  min = a-b\n",
        "  div = a/b\n",
        "  multi = a*b\n",
        "  return add,min,div,multi"
      ],
      "metadata": {
        "id": "MaCYp2oV_L7T"
      },
      "execution_count": 21,
      "outputs": []
    },
    {
      "cell_type": "code",
      "source": [
        "calculation(3,2)"
      ],
      "metadata": {
        "colab": {
          "base_uri": "https://localhost:8080/"
        },
        "id": "Yjxyj4TpoBIX",
        "outputId": "4d16e2ca-7432-42f9-f55d-ff26d273caf5"
      },
      "execution_count": 22,
      "outputs": [
        {
          "output_type": "execute_result",
          "data": {
            "text/plain": [
              "(5, 1, 1.5, 6)"
            ]
          },
          "metadata": {},
          "execution_count": 22
        }
      ]
    },
    {
      "cell_type": "code",
      "source": [
        "calculation(8,2)\n",
        "#hasilnya langsung 4 equation"
      ],
      "metadata": {
        "colab": {
          "base_uri": "https://localhost:8080/"
        },
        "id": "fWC33cq0B0hK",
        "outputId": "153203d4-213c-41f4-dfb0-ef5620f64148"
      },
      "execution_count": 23,
      "outputs": [
        {
          "output_type": "execute_result",
          "data": {
            "text/plain": [
              "(10, 6, 4.0, 16)"
            ]
          },
          "metadata": {},
          "execution_count": 23
        }
      ]
    },
    {
      "cell_type": "code",
      "source": [
        "# bisa di pisah-pisah\n",
        "# contoh\n",
        "\n",
        "a,b,c,d = calculation(10,2)\n",
        "print(f'result of add {a}')\n",
        "print(f'resulst of minus {b}')\n",
        "print(f'result of divide {c}')\n",
        "print(f'result of multiply {d}')"
      ],
      "metadata": {
        "colab": {
          "base_uri": "https://localhost:8080/"
        },
        "id": "D_ennk1YB4uD",
        "outputId": "05ddffd4-a563-4ec7-bbcf-be1ec680f467"
      },
      "execution_count": 34,
      "outputs": [
        {
          "output_type": "stream",
          "name": "stdout",
          "text": [
            "result of add 12\n",
            "resulst of minus 8\n",
            "result of divide 5.0\n",
            "result of multiply 20\n"
          ]
        }
      ]
    },
    {
      "cell_type": "code",
      "source": [
        "#Challenge\n",
        "#Tampilkan function yang menunjukan angka tertera ganjil atau genap"
      ],
      "metadata": {
        "id": "kDI9OHJrCNIA"
      },
      "execution_count": 25,
      "outputs": []
    },
    {
      "cell_type": "code",
      "source": [
        "a = 50"
      ],
      "metadata": {
        "id": "6a-Rk_hEDrbh"
      },
      "execution_count": 26,
      "outputs": []
    },
    {
      "cell_type": "markdown",
      "source": [
        ""
      ],
      "metadata": {
        "id": "_iCHLzJZjUOe"
      }
    },
    {
      "cell_type": "code",
      "source": [
        "\n",
        "def even_odd (a):\n",
        "  if a % 2 == 0 :\n",
        "    print (f'the number {a} is even')\n",
        "  else :\n",
        "    print (f'the number {a} is odd')\n",
        "\n"
      ],
      "metadata": {
        "id": "dPoHkWJhDu9P"
      },
      "execution_count": 43,
      "outputs": []
    },
    {
      "cell_type": "code",
      "source": [
        "even_odd (37)"
      ],
      "metadata": {
        "colab": {
          "base_uri": "https://localhost:8080/"
        },
        "id": "kX7Fcf_wj5zf",
        "outputId": "2ae49f8b-f545-4cb4-84c5-d6cd68966317"
      },
      "execution_count": 44,
      "outputs": [
        {
          "output_type": "stream",
          "name": "stdout",
          "text": [
            "the number 37 is odd\n"
          ]
        }
      ]
    },
    {
      "cell_type": "code",
      "source": [
        "#ATAU BISA JUGA MENGGUNAKAN FUNGSI INPUT"
      ],
      "metadata": {
        "id": "TQqNdbRfkBNf"
      },
      "execution_count": 29,
      "outputs": []
    },
    {
      "cell_type": "code",
      "source": [
        "def even_odd (a):\n",
        "  if a % 2 == 0 :\n",
        "    print (f'the number {a} is even')\n",
        "  else :\n",
        "    print (f'the number {a} is odd')\n",
        "a = int(input('input number : '))\n",
        "print(even_odd(a))  "
      ],
      "metadata": {
        "colab": {
          "base_uri": "https://localhost:8080/"
        },
        "id": "ZOu39CYKkEtB",
        "outputId": "d365d82c-9729-4964-c554-51b77d262855"
      },
      "execution_count": 59,
      "outputs": [
        {
          "output_type": "stream",
          "name": "stdout",
          "text": [
            "input number : 37\n",
            "the number 37 is odd\n",
            "None\n"
          ]
        }
      ]
    },
    {
      "cell_type": "code",
      "source": [
        "#CONTOH LAIN :"
      ],
      "metadata": {
        "id": "W8CZIU1OuLBy"
      },
      "execution_count": 60,
      "outputs": []
    },
    {
      "cell_type": "code",
      "source": [
        "def deteksi (b) :\n",
        "  if 'hacktiv8' in (b) :\n",
        "    print(f'{b} is the right word')\n",
        "  else :\n",
        "    print(f'{b} is not the right word')"
      ],
      "metadata": {
        "id": "Gx2hdhEqufZm"
      },
      "execution_count": 65,
      "outputs": []
    },
    {
      "cell_type": "code",
      "source": [
        "deteksi('hacktiv8')"
      ],
      "metadata": {
        "colab": {
          "base_uri": "https://localhost:8080/"
        },
        "id": "RsUxmedeu1Qo",
        "outputId": "2703f88a-3e1e-4bc1-9ae6-a9eb82074918"
      },
      "execution_count": 66,
      "outputs": [
        {
          "output_type": "stream",
          "name": "stdout",
          "text": [
            "hacktiv8 is the right word\n"
          ]
        }
      ]
    },
    {
      "cell_type": "code",
      "source": [
        "deteksi ('rio')"
      ],
      "metadata": {
        "colab": {
          "base_uri": "https://localhost:8080/"
        },
        "id": "FwK70ilZu3Sx",
        "outputId": "16ce307e-4681-4db9-fa4d-d6e0d3382581"
      },
      "execution_count": 99,
      "outputs": [
        {
          "output_type": "stream",
          "name": "stdout",
          "text": [
            "rio is not the right word\n"
          ]
        }
      ]
    },
    {
      "cell_type": "code",
      "source": [
        "# CARA LAIN\n",
        "def deteksi_1 (c) :\n",
        "  return 'hacktiv8' in c.lower()"
      ],
      "metadata": {
        "id": "__gZxC5RyQ_m"
      },
      "execution_count": 103,
      "outputs": []
    },
    {
      "cell_type": "code",
      "source": [
        "deteksi_1 ('HACKTIV8')"
      ],
      "metadata": {
        "colab": {
          "base_uri": "https://localhost:8080/"
        },
        "id": "_Uh2MItcyc88",
        "outputId": "91d53190-d82c-414e-d239-9a7306b7673b"
      },
      "execution_count": 105,
      "outputs": [
        {
          "output_type": "execute_result",
          "data": {
            "text/plain": [
              "True"
            ]
          },
          "metadata": {},
          "execution_count": 105
        }
      ]
    },
    {
      "cell_type": "code",
      "source": [
        "# atau pakai INPUT"
      ],
      "metadata": {
        "id": "zuhDsMuevGWb"
      },
      "execution_count": 106,
      "outputs": []
    },
    {
      "cell_type": "code",
      "source": [
        "def deteksi (b) :\n",
        "  if 'hacktiv8' in (b) :\n",
        "    print(f'{b} is the right word')\n",
        "  else :\n",
        "    print(f'{b} is not the right word')\n",
        "b = str(input('the word is : '))\n",
        "print(deteksi (b))\n"
      ],
      "metadata": {
        "colab": {
          "base_uri": "https://localhost:8080/"
        },
        "id": "HXq-90lzvOPz",
        "outputId": "5ddfd4ce-a5a1-409d-e41e-6551ff8a6be9"
      },
      "execution_count": 71,
      "outputs": [
        {
          "output_type": "stream",
          "name": "stdout",
          "text": [
            "the word is : hacktiv8\n",
            "hacktiv8 is the right word\n",
            "None\n"
          ]
        }
      ]
    },
    {
      "cell_type": "code",
      "source": [
        "# CONTOH LAIN\n",
        "# Jika ingin menambahkan variable pada suatu functions, agar tidak merubah dari awal\n",
        "# Maka di gunakan command args (*)\n"
      ],
      "metadata": {
        "id": "NuPjRkMOvbZ3"
      },
      "execution_count": 72,
      "outputs": []
    },
    {
      "cell_type": "code",
      "source": [
        "# def madd (x,y,z):\n",
        "  # result = x - y - z\n",
        "  # return(result)\n",
        "# fungsi awal adalah x + y, sedangkan kita ingin menambahkan 1 variable menjadi x + y + z\n",
        "# maka di gunakan command args (*)"
      ],
      "metadata": {
        "id": "iW9ghFaFvwR6"
      },
      "execution_count": 73,
      "outputs": []
    },
    {
      "cell_type": "code",
      "source": [
        "def add (*args) :\n",
        "  return sum(args)"
      ],
      "metadata": {
        "id": "NxaXsiAywzHu"
      },
      "execution_count": 96,
      "outputs": []
    },
    {
      "cell_type": "code",
      "source": [
        "add(100,10,2)"
      ],
      "metadata": {
        "colab": {
          "base_uri": "https://localhost:8080/"
        },
        "id": "A_gBXC96w6yW",
        "outputId": "b5250845-584b-4b94-96af-171cba4e7c01"
      },
      "execution_count": 97,
      "outputs": [
        {
          "output_type": "execute_result",
          "data": {
            "text/plain": [
              "112"
            ]
          },
          "metadata": {},
          "execution_count": 97
        }
      ]
    },
    {
      "cell_type": "code",
      "source": [
        "add(100,20,10,30,40,50)"
      ],
      "metadata": {
        "colab": {
          "base_uri": "https://localhost:8080/"
        },
        "id": "fKyDlCa6w9rZ",
        "outputId": "81d03a6e-2f10-44ca-9b57-d6fdbe606a0e"
      },
      "execution_count": 98,
      "outputs": [
        {
          "output_type": "execute_result",
          "data": {
            "text/plain": [
              "250"
            ]
          },
          "metadata": {},
          "execution_count": 98
        }
      ]
    },
    {
      "cell_type": "code",
      "source": [
        "# fungsi kwargs (**) digunakan untuk menambah DICTIONARY \n",
        "# contoh :"
      ],
      "metadata": {
        "id": "D4mcyFAIx-SX"
      },
      "execution_count": 107,
      "outputs": []
    },
    {
      "cell_type": "code",
      "source": [
        "def pendaftaran (data,**kwargs) :\n",
        "  print(data)\n",
        "  for key,value in kwargs.items():\n",
        "    print(f'Nama penumpang : {key:}')\n",
        "    print(f'Tujuan keberangkatan : {value}')"
      ],
      "metadata": {
        "id": "tQZ8Hz-yzqIR"
      },
      "execution_count": 113,
      "outputs": []
    },
    {
      "cell_type": "code",
      "source": [
        "pendaftaran (5,Rio = 'Surabaya', Andy = 'Jakarta', Elton = 'Makasar', Dhany = 'Bandung', John = 'Malang')"
      ],
      "metadata": {
        "colab": {
          "base_uri": "https://localhost:8080/"
        },
        "id": "HvEqEbIA1YIe",
        "outputId": "4fb37768-5e3c-40a1-9c86-b661358a8936"
      },
      "execution_count": 114,
      "outputs": [
        {
          "output_type": "stream",
          "name": "stdout",
          "text": [
            "5\n",
            "Nama penumpang : Rio\n",
            "Tujuan keberangkatan : Surabaya\n",
            "Nama penumpang : Andy\n",
            "Tujuan keberangkatan : Jakarta\n",
            "Nama penumpang : Elton\n",
            "Tujuan keberangkatan : Makasar\n",
            "Nama penumpang : Dhany\n",
            "Tujuan keberangkatan : Bandung\n",
            "Nama penumpang : John\n",
            "Tujuan keberangkatan : Malang\n"
          ]
        }
      ]
    },
    {
      "cell_type": "code",
      "source": [
        "# Challenge BMI Formula"
      ],
      "metadata": {
        "id": "FHitt2jR1uar"
      },
      "execution_count": 115,
      "outputs": []
    },
    {
      "cell_type": "code",
      "source": [
        "# R.R BMI Formula\n",
        " \n",
        "def bmi (weight,height) :\n",
        "  bmi_calc = weight / ((height/100)**2)\n",
        "  if bmi_calc > 0 :\n",
        "    if bmi_calc > 30 :\n",
        "      print(f'your bmi index is {bmi_calc} and categorized as VERY OVERWEIGHT')\n",
        "    elif 25 <= bmi_calc <= 29.9 :\n",
        "      print(f'your bmi index is {bmi_calc} and categorized as OVERWEIGHT')\n",
        "    elif 18.5 <= bmi_calc < 25 :\n",
        "      print(f'your bmi index is {bmi_calc} and categorized as NORMAL')\n",
        "    else :\n",
        "      print(f'your bmi index is {bmi_calc} and categorized as UNDERWEIGHT')\n",
        "  \n"
      ],
      "metadata": {
        "id": "HGtitxsi1-U7"
      },
      "execution_count": 167,
      "outputs": []
    },
    {
      "cell_type": "code",
      "source": [
        "bmi(89,182)"
      ],
      "metadata": {
        "colab": {
          "base_uri": "https://localhost:8080/"
        },
        "id": "0YLVLMiC54fl",
        "outputId": "4287604b-6c74-4d2d-8a29-4bf53f2f54c7"
      },
      "execution_count": 168,
      "outputs": [
        {
          "output_type": "stream",
          "name": "stdout",
          "text": [
            "your bmi index is 26.86873565994445 and categorized as OVERWEIGHT\n"
          ]
        }
      ]
    },
    {
      "cell_type": "code",
      "source": [
        "#MASUKAN FUNGSI INPUT\n"
      ],
      "metadata": {
        "id": "1hAQjflH_DUK"
      },
      "execution_count": 155,
      "outputs": []
    },
    {
      "cell_type": "code",
      "source": [
        "# R.R BMI Formula input\n",
        "weight = int(input(\"Input your weight (kg) : \"))\n",
        "height = int(input('Input your height (cm) : '))\n",
        "\n",
        "def bmi (weight,height) :\n",
        "  bmi_calc = weight / ((height/100)**2)\n",
        "  if bmi_calc > 30 :\n",
        "    print(f'your bmi index is {bmi_calc} and categorized as VERY OVERWEIGHT')\n",
        "  elif 25 <= bmi_calc <= 29.9 :\n",
        "    print(f'your bmi index is {bmi_calc} and categorized as OVERWEIGHT')\n",
        "  elif 18.5 <= bmi_calc < 25 :\n",
        "    print(f'your bmi index is {bmi_calc} and categorized as NORMAL') \n",
        "  else :\n",
        "    print(f'your bmi index is {bmi_calc} and categorized as UNDERWEIGHT')\n",
        "\n",
        "print(bmi(weight,height))\n",
        "\n",
        "  "
      ],
      "metadata": {
        "colab": {
          "base_uri": "https://localhost:8080/"
        },
        "id": "RJDWyHh-_5Xf",
        "outputId": "cf8cd218-6dd6-48de-e5ad-f7794b17775d"
      },
      "execution_count": 166,
      "outputs": [
        {
          "output_type": "stream",
          "name": "stdout",
          "text": [
            "Input your weight (kg) : 89\n",
            "Input your height (cm) : 182\n",
            "your bmi index is 26.86873565994445 and categorized as OVERWEIGHT\n",
            "None\n"
          ]
        }
      ]
    },
    {
      "cell_type": "markdown",
      "source": [
        "# MASUKAN FUNGSI INPUT MASIH BELUM LANCAR!"
      ],
      "metadata": {
        "id": "zKDiteSKAgI8"
      }
    },
    {
      "cell_type": "code",
      "source": [
        ""
      ],
      "metadata": {
        "id": "MIklUM8aAkVF"
      },
      "execution_count": null,
      "outputs": []
    }
  ]
}