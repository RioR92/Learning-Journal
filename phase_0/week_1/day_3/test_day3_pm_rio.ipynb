{
  "nbformat": 4,
  "nbformat_minor": 0,
  "metadata": {
    "colab": {
      "name": "test_day3_pm_rio.ipynb",
      "provenance": [],
      "collapsed_sections": []
    },
    "kernelspec": {
      "name": "python3",
      "display_name": "Python 3"
    },
    "language_info": {
      "name": "python"
    }
  },
  "cells": [
    {
      "cell_type": "markdown",
      "source": [
        "#NUMPY"
      ],
      "metadata": {
        "id": "82UFvYMf0nUW"
      }
    },
    {
      "cell_type": "code",
      "source": [
        "#install numpy terlebih dahulu ke VS CODE atau secara otomatis di collab.\n",
        "#cara install numpy dengan cara tulis conda install numpy atau pip install numpy\n",
        "#setelah itu import numpy ke system dengan cara import numpy as np"
      ],
      "metadata": {
        "id": "JkC9CQd11vZJ"
      },
      "execution_count": 1,
      "outputs": []
    },
    {
      "cell_type": "code",
      "source": [
        " import numpy as np"
      ],
      "metadata": {
        "id": "UKJ2OqTk0qTq"
      },
      "execution_count": 2,
      "outputs": []
    },
    {
      "cell_type": "code",
      "source": [
        "# NUMPY berfungsi untuk merubah list ke Array\n",
        "# np.array()\n",
        "# CONTOH :\n",
        "\n",
        "a = [1,2,3,4,5]\n",
        "a\n",
        "print(type(a))\n",
        "\n",
        "#merubah list a dari list ke array\n",
        "#CONTOH :\n",
        "\n",
        "b = np.array(a)\n",
        "print(b)\n",
        "print(type(b))\n",
        "\n",
        "#contoh lain -> membuat array LANGSUNG dari np.array\n",
        "\n",
        "d = np.array([10,20,30,40,50])\n",
        "print(d)\n",
        "print(type(d))"
      ],
      "metadata": {
        "colab": {
          "base_uri": "https://localhost:8080/"
        },
        "id": "y7NyjwtH1ob6",
        "outputId": "9eabd5eb-6f3e-49c1-ef42-85a285f85356"
      },
      "execution_count": 3,
      "outputs": [
        {
          "output_type": "stream",
          "name": "stdout",
          "text": [
            "<class 'list'>\n",
            "[1 2 3 4 5]\n",
            "<class 'numpy.ndarray'>\n",
            "[10 20 30 40 50]\n",
            "<class 'numpy.ndarray'>\n"
          ]
        }
      ]
    },
    {
      "cell_type": "code",
      "source": [
        "#terlihat list B sudah menjadi numpy array"
      ],
      "metadata": {
        "id": "XPGwD_wm3l4I"
      },
      "execution_count": 4,
      "outputs": []
    },
    {
      "cell_type": "code",
      "source": [
        "#membuat array melalui np.arange\n",
        "c = np.arange(1,21)\n",
        "print(c)\n",
        "print(type(c))"
      ],
      "metadata": {
        "colab": {
          "base_uri": "https://localhost:8080/"
        },
        "id": "djyyX-sY385b",
        "outputId": "3aa9df16-90d9-4220-83b4-baaea634292e"
      },
      "execution_count": 5,
      "outputs": [
        {
          "output_type": "stream",
          "name": "stdout",
          "text": [
            "[ 1  2  3  4  5  6  7  8  9 10 11 12 13 14 15 16 17 18 19 20]\n",
            "<class 'numpy.ndarray'>\n"
          ]
        }
      ]
    },
    {
      "cell_type": "markdown",
      "source": [
        "## Hal di atas disebut dengan 1D array"
      ],
      "metadata": {
        "id": "QanzPzNl5dSC"
      }
    },
    {
      "cell_type": "markdown",
      "source": [
        "##di bawah ini penjelasan tentang 2D Array"
      ],
      "metadata": {
        "id": "AEtHp0m35cUf"
      }
    },
    {
      "cell_type": "code",
      "source": [
        "#membuat array 2D/Matrix\n",
        "#lihat sebearapa banyak kurung siku di awal untuk menentukan jumlah dimensi atau .ndim\n",
        "#CONTOH :\n",
        "\n",
        "e = [\n",
        "     [10,20,30],\n",
        "    [40,50,60]\n",
        "]\n",
        "e = np.array(e)\n",
        "print(e)\n",
        "print(type(e))\n",
        "print(e.ndim)"
      ],
      "metadata": {
        "colab": {
          "base_uri": "https://localhost:8080/"
        },
        "id": "gF9hE0pU5mdo",
        "outputId": "47eac89d-a06b-4f23-a5eb-17c8ecb6084b"
      },
      "execution_count": 6,
      "outputs": [
        {
          "output_type": "stream",
          "name": "stdout",
          "text": [
            "[[10 20 30]\n",
            " [40 50 60]]\n",
            "<class 'numpy.ndarray'>\n",
            "2\n"
          ]
        }
      ]
    },
    {
      "cell_type": "code",
      "source": [
        " #array di atas disebut dengan 2D array karena mempunyai 2 kurung siku dan membuat 2 baris"
      ],
      "metadata": {
        "id": "A5ozY2yE5qHE"
      },
      "execution_count": 7,
      "outputs": []
    },
    {
      "cell_type": "code",
      "source": [
        "#Membuat array n-dimens\n",
        "\n",
        "g = [\n",
        "     [\n",
        "     [1,1,1,1,1],\n",
        "     [2,2,2,2,2],\n",
        "     [3,3,3,3,3]],\n",
        "     [\n",
        "      [4,4,4,4,4],\n",
        "      [5,5,5,5,5],\n",
        "      [6,6,6,6,6],\n",
        "     ]\n",
        "]\n",
        "g = np.array(g)\n",
        "print(g)\n",
        "print(g.ndim)"
      ],
      "metadata": {
        "colab": {
          "base_uri": "https://localhost:8080/"
        },
        "id": "8Mylp4Ro6Lb8",
        "outputId": "866a61b3-c09e-4541-813a-393cb548b1e8"
      },
      "execution_count": 8,
      "outputs": [
        {
          "output_type": "stream",
          "name": "stdout",
          "text": [
            "[[[1 1 1 1 1]\n",
            "  [2 2 2 2 2]\n",
            "  [3 3 3 3 3]]\n",
            "\n",
            " [[4 4 4 4 4]\n",
            "  [5 5 5 5 5]\n",
            "  [6 6 6 6 6]]]\n",
            "3\n"
          ]
        }
      ]
    },
    {
      "cell_type": "code",
      "source": [
        "#Pada contoh di atas terlihat ada 3 KURUNG SIKU yang berarti matrix tersebut mempunyai 3Dimensi array"
      ],
      "metadata": {
        "id": "yNLDEbPB-Ho1"
      },
      "execution_count": 9,
      "outputs": []
    },
    {
      "cell_type": "markdown",
      "source": [
        "## 1 D array di sebut Vector\n",
        "## 2 D array di sebut Matrix\n",
        "## 3 D array di sebut Tensor"
      ],
      "metadata": {
        "id": "bQ6I6a1g-lAz"
      }
    },
    {
      "cell_type": "markdown",
      "source": [
        "##Menentukan shape suatu array"
      ],
      "metadata": {
        "id": "7BaxBb7X-yLC"
      }
    },
    {
      "cell_type": "code",
      "source": [
        "#menentukan shape suatu array dengan menggunakan .shape\n",
        "#shape berupa ukuran kolom dan baris\n",
        "#CONTOH :\n",
        "\n",
        "print(b)\n",
        "print(b.shape)\n",
        "# 1D array akan menunjukan (5,) karena berupa vector\n",
        "print(e)\n",
        "print(e.shape)\n",
        "#2D array akan menunjukan (2,3) karena mempunyai 2 BARIS dan 3 KOLOM\n",
        "print(g)\n",
        "print(g.shape)\n",
        "#3D array akan menunjukan ??\n"
      ],
      "metadata": {
        "colab": {
          "base_uri": "https://localhost:8080/"
        },
        "id": "VXiHoo6Z-X9k",
        "outputId": "61297f91-3e9e-45cf-bda3-28a0a479bad3"
      },
      "execution_count": 10,
      "outputs": [
        {
          "output_type": "stream",
          "name": "stdout",
          "text": [
            "[1 2 3 4 5]\n",
            "(5,)\n",
            "[[10 20 30]\n",
            " [40 50 60]]\n",
            "(2, 3)\n",
            "[[[1 1 1 1 1]\n",
            "  [2 2 2 2 2]\n",
            "  [3 3 3 3 3]]\n",
            "\n",
            " [[4 4 4 4 4]\n",
            "  [5 5 5 5 5]\n",
            "  [6 6 6 6 6]]]\n",
            "(2, 3, 5)\n"
          ]
        }
      ]
    },
    {
      "cell_type": "markdown",
      "source": [
        "## Kalau 3D array belum tahu cara bacanya"
      ],
      "metadata": {
        "id": "71kiZPE-_z8P"
      }
    },
    {
      "cell_type": "code",
      "source": [
        "#Menentukan jumlah total elemen suatu array\n",
        "#.size\n",
        "# digunakan untuk menunjukan seberapa banyak angka atau character pada array tersebut\n",
        "#CONTOH :\n",
        "\n",
        "print(b)\n",
        "print(b.size)\n",
        "#menunjukan angka 5, dimana angka tersebut merupakan jumlah character pada array b\n",
        "print(e)\n",
        "print(e.size)\n",
        "#menunjukan angka 6, dimana angka tersebut merupakan jumlah character pada array e\n",
        "print(g)\n",
        "print(g.size)\n",
        "#menunjukan angka 30, dimana angka tersebut merupakan jumlah character pada array g"
      ],
      "metadata": {
        "colab": {
          "base_uri": "https://localhost:8080/"
        },
        "id": "RPVeMd8c_CmF",
        "outputId": "e434339f-7aad-4d31-a5e7-919efa5234ea"
      },
      "execution_count": 11,
      "outputs": [
        {
          "output_type": "stream",
          "name": "stdout",
          "text": [
            "[1 2 3 4 5]\n",
            "5\n",
            "[[10 20 30]\n",
            " [40 50 60]]\n",
            "6\n",
            "[[[1 1 1 1 1]\n",
            "  [2 2 2 2 2]\n",
            "  [3 3 3 3 3]]\n",
            "\n",
            " [[4 4 4 4 4]\n",
            "  [5 5 5 5 5]\n",
            "  [6 6 6 6 6]]]\n",
            "30\n"
          ]
        }
      ]
    },
    {
      "cell_type": "markdown",
      "source": [
        "#Indexing dan Slicing "
      ],
      "metadata": {
        "id": "UhL-F60FBcjI"
      }
    },
    {
      "cell_type": "code",
      "source": [
        "#Indexing dan slicing pada suatu array\n",
        "print(b)\n",
        "print(b[0:1])\n",
        "print(b[0:])\n",
        "print(b[::2])\n",
        "#Concept nya sama seperti materi week 1 dari mas afif tentang slicing\n",
        "#dimana i1 = start, i2 = stop-1, i3 = step"
      ],
      "metadata": {
        "colab": {
          "base_uri": "https://localhost:8080/"
        },
        "id": "d90agR8VAKkA",
        "outputId": "78bd6717-dff2-49a5-fdef-f077f09da554"
      },
      "execution_count": 12,
      "outputs": [
        {
          "output_type": "stream",
          "name": "stdout",
          "text": [
            "[1 2 3 4 5]\n",
            "[1]\n",
            "[1 2 3 4 5]\n",
            "[1 3 5]\n"
          ]
        }
      ]
    },
    {
      "cell_type": "code",
      "source": [
        "#Merubah urutan array 1D dari belakang ke depan (Descending)\n",
        "#Contoh :\n",
        "\n",
        "print(b[::-1])\n",
        "\n",
        "#angka -1 di artikan system akan memulai character paling belakang"
      ],
      "metadata": {
        "colab": {
          "base_uri": "https://localhost:8080/"
        },
        "id": "p-rSabfHBuSj",
        "outputId": "6821a2a9-431d-4096-e317-ad66ddb26a3e"
      },
      "execution_count": 13,
      "outputs": [
        {
          "output_type": "stream",
          "name": "stdout",
          "text": [
            "[5 4 3 2 1]\n"
          ]
        }
      ]
    },
    {
      "cell_type": "code",
      "source": [
        "#CONTOH SOAL"
      ],
      "metadata": {
        "id": "rJ9kiDRoCikY"
      },
      "execution_count": 14,
      "outputs": []
    },
    {
      "cell_type": "markdown",
      "source": [
        "### Nomor 1\n",
        "\n",
        "###### Buatlah sebuah array seperti di bawah ini dan tambahkan setiap elemennya dengan 1"
      ],
      "metadata": {
        "id": "oHeZePAaC_es"
      }
    },
    {
      "cell_type": "markdown",
      "source": [
        "### Cara pertama dengan menambahkan bilangan skalar"
      ],
      "metadata": {
        "id": "vlYdlJhREy-b"
      }
    },
    {
      "cell_type": "code",
      "source": [
        "h = [10,20,30,40,50]"
      ],
      "metadata": {
        "id": "4ZAqkLJ7C-hF"
      },
      "execution_count": 15,
      "outputs": []
    },
    {
      "cell_type": "code",
      "source": [
        "h = np.array(h)\n",
        "print(h)\n",
        "print(type(h))"
      ],
      "metadata": {
        "colab": {
          "base_uri": "https://localhost:8080/"
        },
        "id": "ScfN9kNGDM1Q",
        "outputId": "5db6dff6-2180-4528-c3f5-84df77fc18d5"
      },
      "execution_count": 16,
      "outputs": [
        {
          "output_type": "stream",
          "name": "stdout",
          "text": [
            "[10 20 30 40 50]\n",
            "<class 'numpy.ndarray'>\n"
          ]
        }
      ]
    },
    {
      "cell_type": "code",
      "source": [
        "print(h+1)\n",
        "# terlihat seluruh list pada numpy/array h akan bertambah 1 untuk setiap characternya"
      ],
      "metadata": {
        "colab": {
          "base_uri": "https://localhost:8080/"
        },
        "id": "Uy43umGXDSEB",
        "outputId": "fa1a7eaa-dd10-4f4f-9e11-23e4e9f29ee7"
      },
      "execution_count": 17,
      "outputs": [
        {
          "output_type": "stream",
          "name": "stdout",
          "text": [
            "[11 21 31 41 51]\n"
          ]
        }
      ]
    },
    {
      "cell_type": "markdown",
      "source": [
        "### Cara Kedua dengan menggunakan special array (np.ones)"
      ],
      "metadata": {
        "id": "6FCuWi-EE4Ja"
      }
    },
    {
      "cell_type": "code",
      "source": [
        "i = [10,20,30,40,50]\n",
        "i = np.array(i)\n",
        "print(i)\n",
        "print(type(i))"
      ],
      "metadata": {
        "colab": {
          "base_uri": "https://localhost:8080/"
        },
        "id": "Y5Rf9wvpD03A",
        "outputId": "cb31b58e-7a91-4368-f6cc-f69486f4ac90"
      },
      "execution_count": 18,
      "outputs": [
        {
          "output_type": "stream",
          "name": "stdout",
          "text": [
            "[10 20 30 40 50]\n",
            "<class 'numpy.ndarray'>\n"
          ]
        }
      ]
    },
    {
      "cell_type": "code",
      "source": [
        "i + np.ones(5)\n",
        "#membuat seluruh character dalam list di tambah 1"
      ],
      "metadata": {
        "colab": {
          "base_uri": "https://localhost:8080/"
        },
        "id": "sOFkVjuvFWba",
        "outputId": "84e8b772-7032-4b44-acbb-f9287268cb35"
      },
      "execution_count": 19,
      "outputs": [
        {
          "output_type": "execute_result",
          "data": {
            "text/plain": [
              "array([11., 21., 31., 41., 51.])"
            ]
          },
          "metadata": {},
          "execution_count": 19
        }
      ]
    },
    {
      "cell_type": "code",
      "source": [
        " #np.zeros()\n",
        " #digunakan untuk\n",
        " #contoh :\n",
        "np.zeros (3)\n",
        "\n",
        "#membuatseluruh character menjadi 0"
      ],
      "metadata": {
        "colab": {
          "base_uri": "https://localhost:8080/"
        },
        "id": "RHYzyO-bFf5v",
        "outputId": "6e39bda7-7fd7-4a18-8580-ca629feb9e07"
      },
      "execution_count": 20,
      "outputs": [
        {
          "output_type": "execute_result",
          "data": {
            "text/plain": [
              "array([0., 0., 0.])"
            ]
          },
          "metadata": {},
          "execution_count": 20
        }
      ]
    },
    {
      "cell_type": "markdown",
      "source": [
        "### Nomor 2\n",
        "\n",
        "###### Buatlah sebuah array seperti di bawah ini dan keluarkan element yang bernilai negatif."
      ],
      "metadata": {
        "id": "Z4HWdlDMgMeq"
      }
    },
    {
      "cell_type": "code",
      "source": [
        "b = [-3,0,-2,-1,2,3,-4]"
      ],
      "metadata": {
        "id": "QwTBORV0GEx8"
      },
      "execution_count": 21,
      "outputs": []
    },
    {
      "cell_type": "code",
      "source": [
        "# Langka pertama buat array\n",
        "\n",
        "b = np.array(b)\n",
        "print(b)\n",
        "print(type(b))"
      ],
      "metadata": {
        "colab": {
          "base_uri": "https://localhost:8080/"
        },
        "id": "G-LqQSn4gVNo",
        "outputId": "66fa1eb4-07d3-4d6e-dc37-5d947aa2ac12"
      },
      "execution_count": 22,
      "outputs": [
        {
          "output_type": "stream",
          "name": "stdout",
          "text": [
            "[-3  0 -2 -1  2  3 -4]\n",
            "<class 'numpy.ndarray'>\n"
          ]
        }
      ]
    },
    {
      "cell_type": "code",
      "source": [
        " # jika 'b<0' maka hanya akan dilakukan pengecekan apakah element 'b' kurang dari 0  saja.\n",
        "\n",
        " b<0"
      ],
      "metadata": {
        "colab": {
          "base_uri": "https://localhost:8080/"
        },
        "id": "WQceVCfMgcsQ",
        "outputId": "58c027af-c350-4f60-b418-0cda1b7912e4"
      },
      "execution_count": 23,
      "outputs": [
        {
          "output_type": "execute_result",
          "data": {
            "text/plain": [
              "array([ True, False,  True,  True, False, False,  True])"
            ]
          },
          "metadata": {},
          "execution_count": 23
        }
      ]
    },
    {
      "cell_type": "code",
      "source": [
        "# Pada data di atas terlihat bahwa seluruh element pada b di check 1 per 1.\n",
        "# outputnya berupa boolean dan menunjukan TRUE atau False saja"
      ],
      "metadata": {
        "id": "HP6CnvCqhDqZ"
      },
      "execution_count": 24,
      "outputs": []
    },
    {
      "cell_type": "code",
      "source": [
        "# JIKA 'b[b<0]' maka element di 'b' yang kurang dari 0 akan di tampilkan"
      ],
      "metadata": {
        "id": "NwUl3wochboR"
      },
      "execution_count": 25,
      "outputs": []
    },
    {
      "cell_type": "code",
      "source": [
        "b[b<0]\n",
        "b[b>0]"
      ],
      "metadata": {
        "colab": {
          "base_uri": "https://localhost:8080/"
        },
        "id": "h1EEvh6-hi-D",
        "outputId": "50048b92-9d42-4aa8-a71d-f582e24f93b2"
      },
      "execution_count": 28,
      "outputs": [
        {
          "output_type": "execute_result",
          "data": {
            "text/plain": [
              "array([2, 3])"
            ]
          },
          "metadata": {},
          "execution_count": 28
        }
      ]
    },
    {
      "cell_type": "markdown",
      "source": [
        "##Nomor 3\n",
        "###Buatlah sebuah array seperti di bawah ini dan keluarkan element yang bernilai positif dan urutkan dari kecil ke besar"
      ],
      "metadata": {
        "id": "p-8qjk_4h4im"
      }
    },
    {
      "cell_type": "code",
      "source": [
        "c =[10,-8,4,5,-41,7,5,-4]"
      ],
      "metadata": {
        "id": "CAC0uZhHhoMY"
      },
      "execution_count": 46,
      "outputs": []
    },
    {
      "cell_type": "code",
      "source": [
        "# Langkah pertama buat arraynya\n",
        "\n",
        "c1 = np.array(c)\n",
        "print(c1)\n",
        "print(type(c1))"
      ],
      "metadata": {
        "colab": {
          "base_uri": "https://localhost:8080/"
        },
        "id": "qZvtBJb8iH_N",
        "outputId": "7d52da55-3d3e-4dd1-a95d-b198b3809dd1"
      },
      "execution_count": 47,
      "outputs": [
        {
          "output_type": "stream",
          "name": "stdout",
          "text": [
            "[ 10  -8   4   5 -41   7   5  -4]\n",
            "<class 'numpy.ndarray'>\n"
          ]
        }
      ]
    },
    {
      "cell_type": "code",
      "source": [
        "# Sort element dari bilangan kecil ke besar\n",
        "# Caranya memakai syntax np.sort(namaarray)\n",
        "\n",
        "c1 = np.sort(c1)\n",
        "print(c1)"
      ],
      "metadata": {
        "colab": {
          "base_uri": "https://localhost:8080/"
        },
        "id": "wLZLfqg8iMt8",
        "outputId": "04f15475-879e-4f8d-a598-fb33adf3a880"
      },
      "execution_count": 48,
      "outputs": [
        {
          "output_type": "stream",
          "name": "stdout",
          "text": [
            "[-41  -8  -4   4   5   5   7  10]\n"
          ]
        }
      ]
    },
    {
      "cell_type": "code",
      "source": [
        "# lalu buang element yang negatif, karena di minta untuk menujukan angka positif saja.\n",
        "\n",
        "c1 = c1[c1>0]\n",
        "print (c1)"
      ],
      "metadata": {
        "colab": {
          "base_uri": "https://localhost:8080/"
        },
        "id": "5sz8iW2hiXTC",
        "outputId": "17176b3f-df48-4bed-ae6f-d9b4ce768665"
      },
      "execution_count": 49,
      "outputs": [
        {
          "output_type": "stream",
          "name": "stdout",
          "text": [
            "[ 4  5  5  7 10]\n"
          ]
        }
      ]
    },
    {
      "cell_type": "code",
      "source": [
        "print(c)\n",
        "print"
      ],
      "metadata": {
        "colab": {
          "base_uri": "https://localhost:8080/"
        },
        "id": "p1M02-ojjygr",
        "outputId": "8e098bd6-62fd-4e88-cb2e-3945b6c830e7"
      },
      "execution_count": 58,
      "outputs": [
        {
          "output_type": "stream",
          "name": "stdout",
          "text": [
            "[10, -8, 4, 5, -41, 7, 5, -4]\n",
            "<class 'list'>\n"
          ]
        }
      ]
    },
    {
      "cell_type": "code",
      "source": [
        "#ATAU BISA JUGA DENGAN CARA DIGABUNG LANGSUNG SORT DAN SELECTNYA\n",
        "c = np.array(c)\n",
        "print(c)\n",
        "print(type(c))\n"
      ],
      "metadata": {
        "colab": {
          "base_uri": "https://localhost:8080/"
        },
        "id": "E-YwRndWigJr",
        "outputId": "2ceeff23-85a4-4294-9036-06f150b6c146"
      },
      "execution_count": 60,
      "outputs": [
        {
          "output_type": "stream",
          "name": "stdout",
          "text": [
            "[ 10  -8   4   5 -41   7   5  -4]\n",
            "<class 'numpy.ndarray'>\n"
          ]
        }
      ]
    },
    {
      "cell_type": "code",
      "source": [
        "print(np.sort(c[c>0])[::-1])"
      ],
      "metadata": {
        "colab": {
          "base_uri": "https://localhost:8080/"
        },
        "id": "_RGbODuojvyQ",
        "outputId": "e4268f29-08e6-47d3-d4d3-10e93c87d3b4"
      },
      "execution_count": 62,
      "outputs": [
        {
          "output_type": "stream",
          "name": "stdout",
          "text": [
            "[10  7  5  5  4]\n"
          ]
        }
      ]
    },
    {
      "cell_type": "markdown",
      "source": [
        "##Nomor 4\n",
        "###Buatlah sebuah array seperti di bawah ini kemudian tumpukan secara horizontal den vertikal satu sama lain"
      ],
      "metadata": {
        "id": "QGyTllGUlRLv"
      }
    },
    {
      "cell_type": "code",
      "source": [
        "d = [1,2,3,4,5]\n",
        "e = [6,7,8,9,10]"
      ],
      "metadata": {
        "id": "U4Rf2_H_k15N"
      },
      "execution_count": 63,
      "outputs": []
    },
    {
      "cell_type": "code",
      "source": [
        "# Step pertama buat array\n",
        "\n",
        "d = np.array(d)\n",
        "print(d)\n",
        "print(type(d))\n",
        "\n",
        "e = np.array(e)\n",
        "print(e)\n",
        "print(type(e))"
      ],
      "metadata": {
        "colab": {
          "base_uri": "https://localhost:8080/"
        },
        "id": "9LOQaeqsln8c",
        "outputId": "ff430775-378a-46d6-fd32-fbb48bc5940a"
      },
      "execution_count": 66,
      "outputs": [
        {
          "output_type": "stream",
          "name": "stdout",
          "text": [
            "[1 2 3 4 5]\n",
            "<class 'numpy.ndarray'>\n",
            "[ 6  7  8  9 10]\n",
            "<class 'numpy.ndarray'>\n"
          ]
        }
      ]
    },
    {
      "cell_type": "code",
      "source": [
        "# STACKING HORIZONTAL -> np.hstack((array1,array2))\n",
        "# STACKING VERTICAL -> np.vstack((array1,array2))\n",
        "\n",
        "de_hstack = np.hstack((d,e))\n",
        "print(de_hstack)\n",
        "\n",
        "de_vstack = np.vstack((d,e))\n",
        "print(de_vstack)"
      ],
      "metadata": {
        "colab": {
          "base_uri": "https://localhost:8080/"
        },
        "id": "BehJJW4LlsAc",
        "outputId": "c804d0b9-334e-4bea-d018-d4a5c3af3606"
      },
      "execution_count": 69,
      "outputs": [
        {
          "output_type": "stream",
          "name": "stdout",
          "text": [
            "[ 1  2  3  4  5  6  7  8  9 10]\n",
            "[[ 1  2  3  4  5]\n",
            " [ 6  7  8  9 10]]\n"
          ]
        }
      ]
    },
    {
      "cell_type": "markdown",
      "source": [
        "##Nomor 5\n",
        "###Buatlah sebuah array seperti di bawah ini yang berasal dari 1 deklarasi variable yang sama. Kemudian kalikan array 1 dengan 2 dan kalikan array kedua dengan 3"
      ],
      "metadata": {
        "id": "cZQf1UpnnJ1h"
      }
    },
    {
      "cell_type": "code",
      "source": [
        "f = [10,20,30,40,50]"
      ],
      "metadata": {
        "id": "62ETMAjJme6R"
      },
      "execution_count": 70,
      "outputs": []
    },
    {
      "cell_type": "code",
      "source": [
        "# Ekspektasi output :\n",
        "\n",
        "#hasil perkalian dengan 2 -> [20,40,60,80,100]\n",
        "#hasil perkalian dengan 3 -> [30,60,90,120,150]"
      ],
      "metadata": {
        "id": "bJQ5vnaZnaVt"
      },
      "execution_count": 71,
      "outputs": []
    },
    {
      "cell_type": "code",
      "source": [
        "# LANGKAH PERTAMA buat array\n",
        "\n",
        "f = np.array(f)\n",
        "print(f)\n",
        "print(type(f))"
      ],
      "metadata": {
        "colab": {
          "base_uri": "https://localhost:8080/"
        },
        "id": "TrGjggKOnlql",
        "outputId": "eab237d8-6e75-4a98-f6fc-5fcba31f6869"
      },
      "execution_count": 72,
      "outputs": [
        {
          "output_type": "stream",
          "name": "stdout",
          "text": [
            "[10 20 30 40 50]\n",
            "<class 'numpy.ndarray'>\n"
          ]
        }
      ]
    },
    {
      "cell_type": "code",
      "source": [
        "f2 = f.copy()\n",
        "f2\n",
        "# CARA COPY NUMPY"
      ],
      "metadata": {
        "colab": {
          "base_uri": "https://localhost:8080/"
        },
        "id": "QyEfTbX0nsRt",
        "outputId": "2787e848-1b04-4fc5-d9ac-5c38008974df"
      },
      "execution_count": 74,
      "outputs": [
        {
          "output_type": "execute_result",
          "data": {
            "text/plain": [
              "array([10, 20, 30, 40, 50])"
            ]
          },
          "metadata": {},
          "execution_count": 74
        }
      ]
    },
    {
      "cell_type": "code",
      "source": [
        "# Kalikan masing2 variable\n",
        "print(f*2)\n",
        "\n",
        "print(f2*3)"
      ],
      "metadata": {
        "colab": {
          "base_uri": "https://localhost:8080/"
        },
        "id": "og-f9YGIoA2Q",
        "outputId": "3966eb41-da32-4c8c-bd53-d82e13a34473"
      },
      "execution_count": 75,
      "outputs": [
        {
          "output_type": "stream",
          "name": "stdout",
          "text": [
            "[ 20  40  60  80 100]\n",
            "[ 30  60  90 120 150]\n"
          ]
        }
      ]
    },
    {
      "cell_type": "markdown",
      "source": [
        "##Nomor 6\n",
        "###Buatlah sebuah array seperti di bawah ini dan hitung total jumlahnya"
      ],
      "metadata": {
        "id": "Wru4ROxIoTzh"
      }
    },
    {
      "cell_type": "code",
      "source": [
        "h = [1,2,3,4,5]\n",
        "j = [[1,2,3],\n",
        "     [4,5,6]]"
      ],
      "metadata": {
        "id": "s-_5B-sQoNO7"
      },
      "execution_count": 76,
      "outputs": []
    },
    {
      "cell_type": "code",
      "source": [
        "# Ekspektasi Output :\n",
        "# total nilai h = 15\n",
        "# total nilai j berdasarkan penjumlahan baris = [6,15]\n",
        "# total nilai j berdasarkan penjumlahan kolom = [5,7,9]"
      ],
      "metadata": {
        "id": "4CR3EK0jo-uI"
      },
      "execution_count": 78,
      "outputs": []
    },
    {
      "cell_type": "code",
      "source": [
        "# buat array\n",
        "\n",
        "h = np.array(h)\n",
        "print(h)\n",
        "print(type(h))\n",
        "\n",
        "j = np.array(j)\n",
        "print(j)\n",
        "print(type(j))"
      ],
      "metadata": {
        "colab": {
          "base_uri": "https://localhost:8080/"
        },
        "id": "qC-jt8TqpBZk",
        "outputId": "29c099f1-2745-4877-ac58-5aebb805ce57"
      },
      "execution_count": 79,
      "outputs": [
        {
          "output_type": "stream",
          "name": "stdout",
          "text": [
            "[1 2 3 4 5]\n",
            "<class 'numpy.ndarray'>\n",
            "[[1 2 3]\n",
            " [4 5 6]]\n",
            "<class 'numpy.ndarray'>\n"
          ]
        }
      ]
    },
    {
      "cell_type": "code",
      "source": [
        "print(h,'\\n',j)"
      ],
      "metadata": {
        "colab": {
          "base_uri": "https://localhost:8080/"
        },
        "id": "sD1yvhlgrnxh",
        "outputId": "19c008a2-65e9-4832-cd4a-e15cfcb49721"
      },
      "execution_count": 80,
      "outputs": [
        {
          "output_type": "stream",
          "name": "stdout",
          "text": [
            "[1 2 3 4 5] \n",
            " [[1 2 3]\n",
            " [4 5 6]]\n"
          ]
        }
      ]
    },
    {
      "cell_type": "code",
      "source": [
        "# Menjumlahkan array h\n",
        "# .sum()\n",
        "\n",
        "print('Total nilai h : ',h.sum())"
      ],
      "metadata": {
        "colab": {
          "base_uri": "https://localhost:8080/"
        },
        "id": "Pykdc3EkrfGq",
        "outputId": "9bd93855-8938-44dd-ce77-9ca33c453955"
      },
      "execution_count": 85,
      "outputs": [
        {
          "output_type": "stream",
          "name": "stdout",
          "text": [
            "Total nilai h :  15\n"
          ]
        }
      ]
    },
    {
      "cell_type": "code",
      "source": [
        "# menjumlahkan berdasarkan baris\n",
        "# baris -> axis = 1\n",
        "\n",
        "print('Total nilai j berdasarkan baris :', j.sum(axis=1))"
      ],
      "metadata": {
        "colab": {
          "base_uri": "https://localhost:8080/"
        },
        "id": "Gp0CV0u2rux_",
        "outputId": "c0010880-57b2-402b-fe5b-8c59bde881b3"
      },
      "execution_count": 86,
      "outputs": [
        {
          "output_type": "stream",
          "name": "stdout",
          "text": [
            "Total nilai j berdasarkan baris : [ 6 15]\n"
          ]
        }
      ]
    },
    {
      "cell_type": "code",
      "source": [
        "# menjumlahkan berdasarkan kolom\n",
        "# kolom -> axis = 0\n",
        "\n",
        "print('total nilai j berdasarkan kolom : ',j.sum(axis=0))"
      ],
      "metadata": {
        "colab": {
          "base_uri": "https://localhost:8080/"
        },
        "id": "y9uWJH4RsNHs",
        "outputId": "9c3c105e-37c8-4358-df07-e2516f9c1af2"
      },
      "execution_count": 88,
      "outputs": [
        {
          "output_type": "stream",
          "name": "stdout",
          "text": [
            "total nilai j berdasarkan kolom :  [5 7 9]\n"
          ]
        }
      ]
    },
    {
      "cell_type": "markdown",
      "source": [
        "##Nomor 7\n",
        "###Buatlah sebuah array seperti di bawah ini dan cari nilai min, max dan sum per baris dan kolom"
      ],
      "metadata": {
        "id": "aBA8CA29spSr"
      }
    },
    {
      "cell_type": "code",
      "source": [
        "k = [[1,2,3],\n",
        "     [4,5,6]]"
      ],
      "metadata": {
        "id": "TZRshbdIsZ0E"
      },
      "execution_count": 133,
      "outputs": []
    },
    {
      "cell_type": "code",
      "source": [
        "# Langkah pertama buat array\n",
        "\n",
        "k = np.array(k)\n",
        "print(k)\n",
        "print(type(k))"
      ],
      "metadata": {
        "colab": {
          "base_uri": "https://localhost:8080/"
        },
        "id": "Yit7p0gPszhf",
        "outputId": "afce5bb5-1cd4-4bae-fcfa-6106ca30060e"
      },
      "execution_count": 98,
      "outputs": [
        {
          "output_type": "stream",
          "name": "stdout",
          "text": [
            "[[1 2 3]\n",
            " [4 5 6]]\n",
            "<class 'numpy.ndarray'>\n"
          ]
        }
      ]
    },
    {
      "cell_type": "code",
      "source": [
        "# Mencari nilai minimum -> .min()\n",
        "# Mencari nilai maximum -> .max()\n",
        "# Mencari nilai total -> .sum()\n",
        "\n",
        "print('BARIS :')\n",
        "print('nilai terendah : ', k.min(axis=1))\n",
        "print('nilai tertinggi : ', k.max(axis=1))\n",
        "print('nilai total : ', k.sum(axis=1))\n",
        "print('KOLOM :')\n",
        "print('nilai terendah : ',k.min(axis=0))\n",
        "print('nilai tertinggi : ', k.max(axis=0))\n",
        "print('nilai total : ', k.sum(axis=0))"
      ],
      "metadata": {
        "colab": {
          "base_uri": "https://localhost:8080/"
        },
        "id": "w4KvNI7gtAvB",
        "outputId": "c2a1c0ee-759e-492b-c822-92f13f4a454b"
      },
      "execution_count": 101,
      "outputs": [
        {
          "output_type": "stream",
          "name": "stdout",
          "text": [
            "BARIS :\n",
            "nilai terendah :  [1 4]\n",
            "nilai tertinggi :  [3 6]\n",
            "nilai total :  [ 6 15]\n",
            "KOLOM :\n",
            "nilai terendah :  [1 2 3]\n",
            "nilai tertinggi :  [4 5 6]\n",
            "nilai total :  [5 7 9]\n"
          ]
        }
      ]
    },
    {
      "cell_type": "markdown",
      "source": [
        "##Nomor 8\n",
        "##Buatlah sebuah array seperti di bawah ini \n",
        "##dan cari baris kedua dan kolom kedua"
      ],
      "metadata": {
        "id": "djp0u673uzyD"
      }
    },
    {
      "cell_type": "code",
      "source": [
        "n = [[1,2,3],\n",
        "     [4,5,6],\n",
        "     [7,8,9]]"
      ],
      "metadata": {
        "id": "FBxImyeeu5Ay"
      },
      "execution_count": 102,
      "outputs": []
    },
    {
      "cell_type": "code",
      "source": [
        "# Pertama buat array\n",
        "\n",
        "n = np.array(n)\n",
        "print(n)\n",
        "print(type(n))"
      ],
      "metadata": {
        "colab": {
          "base_uri": "https://localhost:8080/"
        },
        "id": "YpS2iSnmu-gJ",
        "outputId": "9750208a-7f70-4a0f-8d75-57872735e397"
      },
      "execution_count": 104,
      "outputs": [
        {
          "output_type": "stream",
          "name": "stdout",
          "text": [
            "[[1 2 3]\n",
            " [4 5 6]\n",
            " [7 8 9]]\n",
            "<class 'numpy.ndarray'>\n"
          ]
        }
      ]
    },
    {
      "cell_type": "code",
      "source": [
        "# cara mencari baris & kolom :\n",
        "# namaarray [baris,kolom]\n",
        "\n",
        "print(n[1,1])"
      ],
      "metadata": {
        "colab": {
          "base_uri": "https://localhost:8080/"
        },
        "id": "GIj0o6YBvCRN",
        "outputId": "ce83ebeb-ce84-49df-861c-165331721a21"
      },
      "execution_count": 108,
      "outputs": [
        {
          "output_type": "stream",
          "name": "stdout",
          "text": [
            "5\n"
          ]
        }
      ]
    },
    {
      "cell_type": "code",
      "source": [
        "# Mengambil seluruh baris\n",
        "\n",
        "print(n[1])\n",
        "print(n[1,:])"
      ],
      "metadata": {
        "colab": {
          "base_uri": "https://localhost:8080/"
        },
        "id": "BPp458Sbv7Qd",
        "outputId": "525153dd-fb8e-4045-8fd9-f4ec5b106049"
      },
      "execution_count": 112,
      "outputs": [
        {
          "output_type": "stream",
          "name": "stdout",
          "text": [
            "[4 5 6]\n",
            "[4 5 6]\n"
          ]
        }
      ]
    },
    {
      "cell_type": "code",
      "source": [
        "# mengambil seluruh kolom :\n",
        "\n",
        "print (n[:,1])"
      ],
      "metadata": {
        "colab": {
          "base_uri": "https://localhost:8080/"
        },
        "id": "QGPy5v6GwnbD",
        "outputId": "2f767fd2-a9e5-41a7-93f1-0fd005a9967c"
      },
      "execution_count": 113,
      "outputs": [
        {
          "output_type": "stream",
          "name": "stdout",
          "text": [
            "[2 5 8]\n"
          ]
        }
      ]
    },
    {
      "cell_type": "code",
      "source": [
        "#menampilkan kolom secara 2D\n",
        "# namaarray[:,[indexkolom]]\n",
        "\n",
        "print(n[:,[2]])"
      ],
      "metadata": {
        "colab": {
          "base_uri": "https://localhost:8080/"
        },
        "id": "cFPmIMFlxcPF",
        "outputId": "7dd7ed68-ca30-4ac0-c4cc-3ad60c9d893e"
      },
      "execution_count": 116,
      "outputs": [
        {
          "output_type": "stream",
          "name": "stdout",
          "text": [
            "[[3]\n",
            " [6]\n",
            " [9]]\n"
          ]
        }
      ]
    },
    {
      "cell_type": "code",
      "source": [
        "# Mengambil element secara diagonal ( kiri ke kanan)\n",
        "# np.diag()\n",
        "# buka dokumentasi"
      ],
      "metadata": {
        "id": "cFYZNUbYy4Mb"
      },
      "execution_count": 117,
      "outputs": []
    },
    {
      "cell_type": "code",
      "source": [
        "print(np.diag(n))\n",
        "# jika setelah n tidak di tulis keterengan maka otomatis system akan mengambil dari kolom 1\n",
        "print(np.diag(n,k=1))\n",
        "# jika setelah nama array diberikan keterngan k=1 maka system ambil dari kolom ke 2\n",
        "print(np.diag(n,k=-1))\n",
        "# jika setelah nama array diberikan keterngan k=-1 maka system ambil dari sebelum kolom pertama"
      ],
      "metadata": {
        "colab": {
          "base_uri": "https://localhost:8080/"
        },
        "id": "jwQFaxW_zE1d",
        "outputId": "60b78f8d-f1c4-4e1a-b72f-b1d8d0f2dcb4"
      },
      "execution_count": 120,
      "outputs": [
        {
          "output_type": "stream",
          "name": "stdout",
          "text": [
            "[1 5 9]\n",
            "[2 6]\n",
            "[4 8]\n"
          ]
        }
      ]
    },
    {
      "cell_type": "code",
      "source": [
        "np.diag(np.diag(n))\n",
        "# Digunakan untuk mengambil nomor secara diagonal namun yg ditampilkan dimensinya sesuai awal"
      ],
      "metadata": {
        "colab": {
          "base_uri": "https://localhost:8080/"
        },
        "id": "KHSbIo1dzn0H",
        "outputId": "f2e7d168-5673-4877-eec2-f9bcf53f9066"
      },
      "execution_count": 123,
      "outputs": [
        {
          "output_type": "execute_result",
          "data": {
            "text/plain": [
              "array([[1, 0, 0],\n",
              "       [0, 5, 0],\n",
              "       [0, 0, 9]])"
            ]
          },
          "metadata": {},
          "execution_count": 123
        }
      ]
    },
    {
      "cell_type": "code",
      "source": [
        "# Mengambil element secara diagonal ( kanan ke kiri)\n",
        "# np.diag(np.fliplr(n))\n",
        "\n",
        "np.diag(np.fliplr(n))"
      ],
      "metadata": {
        "colab": {
          "base_uri": "https://localhost:8080/"
        },
        "id": "c413dDRb02ny",
        "outputId": "aa015987-9b90-43ab-a52c-24e57316468a"
      },
      "execution_count": 126,
      "outputs": [
        {
          "output_type": "execute_result",
          "data": {
            "text/plain": [
              "array([3, 5, 7])"
            ]
          },
          "metadata": {},
          "execution_count": 126
        }
      ]
    },
    {
      "cell_type": "code",
      "source": [
        ""
      ],
      "metadata": {
        "id": "HDA2NqJx1rzE"
      },
      "execution_count": null,
      "outputs": []
    },
    {
      "cell_type": "markdown",
      "source": [
        "#Nomor 9\n",
        "##Buatlah sebuah array seperti di bawah ini\n",
        "dan cari nilai min max dan sum untuk baris kedua dan kolom kedua"
      ],
      "metadata": {
        "id": "Zwtk041e12lJ"
      }
    },
    {
      "cell_type": "code",
      "source": [
        "m = [[1,2,3],\n",
        "     [4,5,6],\n",
        "     [7,8,9]]"
      ],
      "metadata": {
        "id": "Bq5XgwlB19Qz"
      },
      "execution_count": 128,
      "outputs": []
    },
    {
      "cell_type": "code",
      "source": [
        "#buat array\n",
        "\n",
        "m = np.array(m)\n",
        "print(m)\n",
        "print(type(m))"
      ],
      "metadata": {
        "colab": {
          "base_uri": "https://localhost:8080/"
        },
        "id": "PD1KGy732DZu",
        "outputId": "afbe0d75-f489-4f2a-9b81-b2253a80b777"
      },
      "execution_count": 129,
      "outputs": [
        {
          "output_type": "stream",
          "name": "stdout",
          "text": [
            "[[1 2 3]\n",
            " [4 5 6]\n",
            " [7 8 9]]\n",
            "<class 'numpy.ndarray'>\n"
          ]
        }
      ]
    },
    {
      "cell_type": "code",
      "source": [
        "# buat variable yang berisikan baris ke 2\n",
        "mb = m[1,:]\n",
        "print(mb)\n",
        "print(type(mb))\n"
      ],
      "metadata": {
        "colab": {
          "base_uri": "https://localhost:8080/"
        },
        "id": "Yj_VgOTS2JUv",
        "outputId": "0555ee80-16b4-403d-cc34-6f8573d47497"
      },
      "execution_count": 139,
      "outputs": [
        {
          "output_type": "stream",
          "name": "stdout",
          "text": [
            "[4 5 6]\n",
            "<class 'numpy.ndarray'>\n",
            "<built-in method sum of numpy.ndarray object at 0x7fd9cceb9870>\n"
          ]
        }
      ]
    },
    {
      "cell_type": "code",
      "source": [
        "# buat variable yang berisikan kolom ke 2"
      ],
      "metadata": {
        "id": "srDEQyM72TqF"
      },
      "execution_count": 131,
      "outputs": []
    },
    {
      "cell_type": "code",
      "source": [
        "mk = m[:,1]\n",
        "print(mk)\n",
        "print(type(mk))"
      ],
      "metadata": {
        "colab": {
          "base_uri": "https://localhost:8080/"
        },
        "id": "wHNfUg1U2XBy",
        "outputId": "ce1ba8fe-d424-481b-ab0b-2e7fae558b44"
      },
      "execution_count": 138,
      "outputs": [
        {
          "output_type": "stream",
          "name": "stdout",
          "text": [
            "[2 5 8]\n",
            "<class 'numpy.ndarray'>\n"
          ]
        }
      ]
    },
    {
      "cell_type": "code",
      "source": [
        "# BARIS :\n",
        "print('Nilai Terendah baris ke 2 : ',np.min(mb))\n",
        "print('Nilai Tertinggi baris ke 2 : ',np.max(mb))\n",
        "print('Nilai Total baris ke 2 : ',np.sum(mb))\n",
        "\n",
        "# KOLOM :\n",
        "print('Nilai Terendah kolom ke 2 : ',np.min(mk))\n",
        "print('Nilai Tertinggi kolom ke 2 : ',np.max(mk))\n",
        "print('Nilai Total kolom ke 2 : ',np.sum(mk))"
      ],
      "metadata": {
        "colab": {
          "base_uri": "https://localhost:8080/"
        },
        "id": "eESJcOLQ-Va2",
        "outputId": "f9664724-be62-429d-c47b-061b76d04ee9"
      },
      "execution_count": 146,
      "outputs": [
        {
          "output_type": "stream",
          "name": "stdout",
          "text": [
            "Nilai Terendah baris ke 2 :  4\n",
            "Nilai Tertinggi baris ke 2 :  6\n",
            "Nilai Total baris ke 2 :  15\n",
            "Nilai Terendah kolom ke 2 :  2\n",
            "Nilai Tertinggi kolom ke 2 :  8\n",
            "Nilai Total kolom ke 2 :  15\n"
          ]
        }
      ]
    },
    {
      "cell_type": "markdown",
      "source": [
        "#Nomor 10\n",
        "\n",
        "#MATPLOTLIB"
      ],
      "metadata": {
        "id": "lFUcEDmtDAIO"
      }
    },
    {
      "cell_type": "code",
      "source": [
        "#Install matplotlib terlebih dahulu\n",
        "import matplotlib.pyplot as plt    "
      ],
      "metadata": {
        "id": "LF9c8ap4_WdQ"
      },
      "execution_count": 148,
      "outputs": []
    },
    {
      "cell_type": "code",
      "source": [
        "#Baca gambar dengan menggunakan plt.imread('location_gambar') lalu masukan ke variable\n",
        "img = plt.imread('car.png')\n"
      ],
      "metadata": {
        "id": "S0Q6XENlFM-3"
      },
      "execution_count": 150,
      "outputs": []
    },
    {
      "cell_type": "code",
      "source": [
        "# Cek ukuran gambar\n",
        "# .shape\n",
        "img.shape\n",
        "\n",
        "# Hasilnya adalah (700,1120) yg berarti gambar tersebut mempunyai 700 baris dan 1120 kolom"
      ],
      "metadata": {
        "colab": {
          "base_uri": "https://localhost:8080/"
        },
        "id": "7EpQmOyMFhS-",
        "outputId": "cc66ce23-7b75-4600-de8d-0d3629d669f1"
      },
      "execution_count": 153,
      "outputs": [
        {
          "output_type": "execute_result",
          "data": {
            "text/plain": [
              "2"
            ]
          },
          "metadata": {},
          "execution_count": 153
        }
      ]
    },
    {
      "cell_type": "code",
      "source": [
        "img.ndim\n",
        "#Gambar tersebut berupa 2 array"
      ],
      "metadata": {
        "colab": {
          "base_uri": "https://localhost:8080/"
        },
        "id": "-n1jW6lVGN7d",
        "outputId": "82b5a597-5e6c-412b-dd91-6afa5df92aec"
      },
      "execution_count": 154,
      "outputs": [
        {
          "output_type": "execute_result",
          "data": {
            "text/plain": [
              "2"
            ]
          },
          "metadata": {},
          "execution_count": 154
        }
      ]
    },
    {
      "cell_type": "code",
      "source": [
        "# cek total pixel\n",
        "# .sizez\n",
        "img.size"
      ],
      "metadata": {
        "colab": {
          "base_uri": "https://localhost:8080/"
        },
        "id": "ZlG6Hb5-F0hj",
        "outputId": "61c928a0-2771-422f-8be0-6c7aa7dd8c90"
      },
      "execution_count": 152,
      "outputs": [
        {
          "output_type": "execute_result",
          "data": {
            "text/plain": [
              "784000"
            ]
          },
          "metadata": {},
          "execution_count": 152
        }
      ]
    },
    {
      "cell_type": "code",
      "source": [
        "# nilai pixel\n",
        "# img, udah di scalling\n",
        "\n",
        "img"
      ],
      "metadata": {
        "colab": {
          "base_uri": "https://localhost:8080/"
        },
        "id": "4aCY8TVRF-FS",
        "outputId": "48d650d7-cfc9-4655-b420-98bcb9d1241e"
      },
      "execution_count": 155,
      "outputs": [
        {
          "output_type": "execute_result",
          "data": {
            "text/plain": [
              "array([[0.37254903, 0.3529412 , 0.34509805, ..., 0.        , 0.        ,\n",
              "        0.        ],\n",
              "       [0.38431373, 0.36078432, 0.34509805, ..., 0.        , 0.        ,\n",
              "        0.        ],\n",
              "       [0.3882353 , 0.36078432, 0.34117648, ..., 0.        , 0.        ,\n",
              "        0.        ],\n",
              "       ...,\n",
              "       [0.08235294, 0.07450981, 0.09411765, ..., 0.0627451 , 0.0627451 ,\n",
              "        0.06666667],\n",
              "       [0.07843138, 0.07450981, 0.10588235, ..., 0.06666667, 0.06666667,\n",
              "        0.06666667],\n",
              "       [0.05882353, 0.07058824, 0.12156863, ..., 0.07843138, 0.07843138,\n",
              "        0.07843138]], dtype=float32)"
            ]
          },
          "metadata": {},
          "execution_count": 155
        }
      ]
    },
    {
      "cell_type": "code",
      "source": [
        "# Memastikan bahwa data berupa array agar bisa di rubah\n",
        "# np.asarray(namaimage)\n",
        "\n",
        "img = np.asarray(img)\n",
        "type(img)"
      ],
      "metadata": {
        "colab": {
          "base_uri": "https://localhost:8080/"
        },
        "id": "ER2FqPrdGXWV",
        "outputId": "4f00a9e9-307c-41a2-ca14-3460ddb2e62f"
      },
      "execution_count": 157,
      "outputs": [
        {
          "output_type": "execute_result",
          "data": {
            "text/plain": [
              "numpy.ndarray"
            ]
          },
          "metadata": {},
          "execution_count": 157
        }
      ]
    },
    {
      "cell_type": "code",
      "source": [
        "#Menentukan nilai yang akan di tambahkan ke pixel\n",
        "#ubah skala 0-1, divide by 255 (highest pixel value)\n"
      ],
      "metadata": {
        "id": "tRwthrcsG8S_"
      },
      "execution_count": null,
      "outputs": []
    }
  ]
}